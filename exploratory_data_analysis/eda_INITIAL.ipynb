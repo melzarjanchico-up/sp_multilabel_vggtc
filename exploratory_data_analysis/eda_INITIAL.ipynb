{
 "cells": [
  {
   "attachments": {},
   "cell_type": "markdown",
   "metadata": {},
   "source": [
    "# 📝 EDA Tests\n",
    "---\n",
    "Analyzing dataset for any imbalances and whatsoever."
   ]
  },
  {
   "cell_type": "code",
   "execution_count": 1,
   "metadata": {},
   "outputs": [],
   "source": [
    "import os\n",
    "\n",
    "datapath = r'C:\\Users\\Melzarr\\OneDrive\\Desktop\\THESIS\\sp_multilabel_vggtc\\data_collection\\final_collection\\final_data2'"
   ]
  },
  {
   "cell_type": "code",
   "execution_count": 2,
   "metadata": {},
   "outputs": [],
   "source": [
    "import pandas as pd\n",
    "import numpy as np\n",
    "import json\n",
    "\n",
    "firstdata = datapath + r'\\data0_s40856.csv'\n",
    "\n",
    "vgame0_df = pd.read_csv(firstdata)"
   ]
  },
  {
   "cell_type": "code",
   "execution_count": 3,
   "metadata": {},
   "outputs": [
    {
     "data": {
      "text/html": [
       "<div>\n",
       "<style scoped>\n",
       "    .dataframe tbody tr th:only-of-type {\n",
       "        vertical-align: middle;\n",
       "    }\n",
       "\n",
       "    .dataframe tbody tr th {\n",
       "        vertical-align: top;\n",
       "    }\n",
       "\n",
       "    .dataframe thead th {\n",
       "        text-align: right;\n",
       "    }\n",
       "</style>\n",
       "<table border=\"1\" class=\"dataframe\">\n",
       "  <thead>\n",
       "    <tr style=\"text-align: right;\">\n",
       "      <th></th>\n",
       "      <th>id</th>\n",
       "      <th>name</th>\n",
       "      <th>summary</th>\n",
       "      <th>genre_count</th>\n",
       "      <th>genre_list</th>\n",
       "      <th>genre_ids</th>\n",
       "    </tr>\n",
       "  </thead>\n",
       "  <tbody>\n",
       "    <tr>\n",
       "      <th>0</th>\n",
       "      <td>1</td>\n",
       "      <td>Thief II: The Metal Age</td>\n",
       "      <td>The ultimate thief is back! Tread softly as yo...</td>\n",
       "      <td>3</td>\n",
       "      <td>['Shooter', 'Simulator', 'Adventure']</td>\n",
       "      <td>[5, 13, 31]</td>\n",
       "    </tr>\n",
       "    <tr>\n",
       "      <th>1</th>\n",
       "      <td>2</td>\n",
       "      <td>Thief: The Dark Project</td>\n",
       "      <td>Thief is a first-person stealth game that like...</td>\n",
       "      <td>2</td>\n",
       "      <td>['Simulator', 'Adventure']</td>\n",
       "      <td>[13, 31]</td>\n",
       "    </tr>\n",
       "    <tr>\n",
       "      <th>2</th>\n",
       "      <td>3</td>\n",
       "      <td>Thief: Deadly Shadows</td>\n",
       "      <td>In the third instalment of the Thief series, m...</td>\n",
       "      <td>3</td>\n",
       "      <td>['Shooter', 'Simulator', 'Adventure']</td>\n",
       "      <td>[5, 13, 31]</td>\n",
       "    </tr>\n",
       "    <tr>\n",
       "      <th>3</th>\n",
       "      <td>4</td>\n",
       "      <td>Thief</td>\n",
       "      <td>There is a rising tide of fear in The City. Ha...</td>\n",
       "      <td>2</td>\n",
       "      <td>['Shooter', 'Adventure']</td>\n",
       "      <td>[5, 31]</td>\n",
       "    </tr>\n",
       "    <tr>\n",
       "      <th>4</th>\n",
       "      <td>5</td>\n",
       "      <td>Baldur's Gate</td>\n",
       "      <td>Baldur's Gate is a fantasy role-playing video ...</td>\n",
       "      <td>1</td>\n",
       "      <td>['Role-playing (RPG)']</td>\n",
       "      <td>[12]</td>\n",
       "    </tr>\n",
       "    <tr>\n",
       "      <th>5</th>\n",
       "      <td>6</td>\n",
       "      <td>Baldur's Gate II: Shadows of Amn</td>\n",
       "      <td>Every World has conflict. Good and evil. Frien...</td>\n",
       "      <td>1</td>\n",
       "      <td>['Role-playing (RPG)']</td>\n",
       "      <td>[12]</td>\n",
       "    </tr>\n",
       "    <tr>\n",
       "      <th>6</th>\n",
       "      <td>7</td>\n",
       "      <td>Jagged Alliance</td>\n",
       "      <td>Desperately you are called to the island of Me...</td>\n",
       "      <td>4</td>\n",
       "      <td>['Role-playing (RPG)', 'Strategy', 'Turn-based...</td>\n",
       "      <td>[12, 15, 16, 24]</td>\n",
       "    </tr>\n",
       "    <tr>\n",
       "      <th>7</th>\n",
       "      <td>8</td>\n",
       "      <td>Jagged Alliance: Deadly Games</td>\n",
       "      <td>The enemy is on the run. One more mortar shell...</td>\n",
       "      <td>4</td>\n",
       "      <td>['Role-playing (RPG)', 'Strategy', 'Turn-based...</td>\n",
       "      <td>[12, 15, 16, 24]</td>\n",
       "    </tr>\n",
       "    <tr>\n",
       "      <th>8</th>\n",
       "      <td>9</td>\n",
       "      <td>Jagged Alliance 2</td>\n",
       "      <td>Jagged Alliance 2 is a perfect blend of strate...</td>\n",
       "      <td>5</td>\n",
       "      <td>['Role-playing (RPG)', 'Strategy', 'Turn-based...</td>\n",
       "      <td>[12, 15, 16, 24, 31]</td>\n",
       "    </tr>\n",
       "    <tr>\n",
       "      <th>9</th>\n",
       "      <td>10</td>\n",
       "      <td>Jade Empire: Special Edition</td>\n",
       "      <td>Step into the role of an aspiring martial-arts...</td>\n",
       "      <td>2</td>\n",
       "      <td>['Role-playing (RPG)', 'Adventure']</td>\n",
       "      <td>[12, 31]</td>\n",
       "    </tr>\n",
       "  </tbody>\n",
       "</table>\n",
       "</div>"
      ],
      "text/plain": [
       "   id                              name  \\\n",
       "0   1           Thief II: The Metal Age   \n",
       "1   2           Thief: The Dark Project   \n",
       "2   3             Thief: Deadly Shadows   \n",
       "3   4                             Thief   \n",
       "4   5                     Baldur's Gate   \n",
       "5   6  Baldur's Gate II: Shadows of Amn   \n",
       "6   7                   Jagged Alliance   \n",
       "7   8     Jagged Alliance: Deadly Games   \n",
       "8   9                 Jagged Alliance 2   \n",
       "9  10      Jade Empire: Special Edition   \n",
       "\n",
       "                                             summary  genre_count  \\\n",
       "0  The ultimate thief is back! Tread softly as yo...            3   \n",
       "1  Thief is a first-person stealth game that like...            2   \n",
       "2  In the third instalment of the Thief series, m...            3   \n",
       "3  There is a rising tide of fear in The City. Ha...            2   \n",
       "4  Baldur's Gate is a fantasy role-playing video ...            1   \n",
       "5  Every World has conflict. Good and evil. Frien...            1   \n",
       "6  Desperately you are called to the island of Me...            4   \n",
       "7  The enemy is on the run. One more mortar shell...            4   \n",
       "8  Jagged Alliance 2 is a perfect blend of strate...            5   \n",
       "9  Step into the role of an aspiring martial-arts...            2   \n",
       "\n",
       "                                          genre_list             genre_ids  \n",
       "0              ['Shooter', 'Simulator', 'Adventure']           [5, 13, 31]  \n",
       "1                         ['Simulator', 'Adventure']              [13, 31]  \n",
       "2              ['Shooter', 'Simulator', 'Adventure']           [5, 13, 31]  \n",
       "3                           ['Shooter', 'Adventure']               [5, 31]  \n",
       "4                             ['Role-playing (RPG)']                  [12]  \n",
       "5                             ['Role-playing (RPG)']                  [12]  \n",
       "6  ['Role-playing (RPG)', 'Strategy', 'Turn-based...      [12, 15, 16, 24]  \n",
       "7  ['Role-playing (RPG)', 'Strategy', 'Turn-based...      [12, 15, 16, 24]  \n",
       "8  ['Role-playing (RPG)', 'Strategy', 'Turn-based...  [12, 15, 16, 24, 31]  \n",
       "9                ['Role-playing (RPG)', 'Adventure']              [12, 31]  "
      ]
     },
     "execution_count": 3,
     "metadata": {},
     "output_type": "execute_result"
    }
   ],
   "source": [
    "vgame0_df.head(10)"
   ]
  },
  {
   "attachments": {},
   "cell_type": "markdown",
   "metadata": {},
   "source": [
    "## Genre Count Frequencies\n",
    "---"
   ]
  },
  {
   "cell_type": "code",
   "execution_count": 20,
   "metadata": {},
   "outputs": [
    {
     "data": {
      "text/html": [
       "<div>\n",
       "<style scoped>\n",
       "    .dataframe tbody tr th:only-of-type {\n",
       "        vertical-align: middle;\n",
       "    }\n",
       "\n",
       "    .dataframe tbody tr th {\n",
       "        vertical-align: top;\n",
       "    }\n",
       "\n",
       "    .dataframe thead th {\n",
       "        text-align: right;\n",
       "    }\n",
       "</style>\n",
       "<table border=\"1\" class=\"dataframe\">\n",
       "  <thead>\n",
       "    <tr style=\"text-align: right;\">\n",
       "      <th></th>\n",
       "      <th>id</th>\n",
       "      <th>name</th>\n",
       "      <th>summary</th>\n",
       "      <th>genre_count</th>\n",
       "      <th>genre_list</th>\n",
       "      <th>genre_ids</th>\n",
       "    </tr>\n",
       "  </thead>\n",
       "  <tbody>\n",
       "    <tr>\n",
       "      <th>3000</th>\n",
       "      <td>3229</td>\n",
       "      <td>Retro World</td>\n",
       "      <td>Retro World takes you on a fantastic journey t...</td>\n",
       "      <td>20</td>\n",
       "      <td>['Point-and-click', 'Fighting', 'Shooter', 'Mu...</td>\n",
       "      <td>[2, 4, 5, 7, 8, 9, 10, 11, 12, 13, 14, 15, 16,...</td>\n",
       "    </tr>\n",
       "  </tbody>\n",
       "</table>\n",
       "</div>"
      ],
      "text/plain": [
       "        id         name                                            summary  \\\n",
       "3000  3229  Retro World  Retro World takes you on a fantastic journey t...   \n",
       "\n",
       "      genre_count                                         genre_list  \\\n",
       "3000           20  ['Point-and-click', 'Fighting', 'Shooter', 'Mu...   \n",
       "\n",
       "                                              genre_ids  \n",
       "3000  [2, 4, 5, 7, 8, 9, 10, 11, 12, 13, 14, 15, 16,...  "
      ]
     },
     "execution_count": 20,
     "metadata": {},
     "output_type": "execute_result"
    }
   ],
   "source": [
    "vgame0_df.loc[vgame0_df['genre_count'] == 20]"
   ]
  },
  {
   "cell_type": "code",
   "execution_count": 4,
   "metadata": {},
   "outputs": [
    {
     "name": "stdout",
     "output_type": "stream",
     "text": [
      "1     16496\n",
      "2     13461\n",
      "3      7045\n",
      "4      2786\n",
      "5       828\n",
      "6       186\n",
      "7        39\n",
      "8        10\n",
      "9         2\n",
      "10        2\n",
      "20        1\n",
      "Name: genre_count, dtype: int64\n",
      "40856\n"
     ]
    },
    {
     "data": {
      "text/plain": [
       "<AxesSubplot: >"
      ]
     },
     "execution_count": 4,
     "metadata": {},
     "output_type": "execute_result"
    },
    {
     "data": {
      "image/png": "[encoded data removed]",
      "text/plain": [
       "<Figure size 432x288 with 1 Axes>"
      ]
     },
     "metadata": {
      "needs_background": "light"
     },
     "output_type": "display_data"
    }
   ],
   "source": [
    "genrecount_freq = pd.value_counts(vgame0_df['genre_count'])\n",
    "print(genrecount_freq)\n",
    "print(genrecount_freq.sum())\n",
    "\n",
    "genrecount_freq.plot(kind='bar')"
   ]
  },
  {
   "cell_type": "code",
   "execution_count": 5,
   "metadata": {},
   "outputs": [
    {
     "name": "stdout",
     "output_type": "stream",
     "text": [
      "1 * 16496\n",
      "2 * 13461\n",
      "3 * 7045\n",
      "4 * 2786\n",
      "5 * 828\n",
      "6 * 186\n",
      "7 * 39\n",
      "8 * 10\n",
      "9 * 2\n",
      "10 * 2\n",
      "20 * 1\n",
      "81364\n"
     ]
    }
   ],
   "source": [
    "type(genrecount_freq)\n",
    "\n",
    "sum = 0\n",
    "for i in genrecount_freq.index:\n",
    "    print(f'{i} * {genrecount_freq[i]}')\n",
    "    sum += i * genrecount_freq[i]\n",
    "print(sum)"
   ]
  },
  {
   "attachments": {},
   "cell_type": "markdown",
   "metadata": {},
   "source": [
    "## Testing `literal_eval()` and `explode()`\n",
    "---\n",
    "`literal_eval()` turns the stringified list to Pythonic list  \n",
    "`explode()` used to separate tags in each game ids"
   ]
  },
  {
   "cell_type": "code",
   "execution_count": 6,
   "metadata": {},
   "outputs": [
    {
     "data": {
      "text/html": [
       "<div>\n",
       "<style scoped>\n",
       "    .dataframe tbody tr th:only-of-type {\n",
       "        vertical-align: middle;\n",
       "    }\n",
       "\n",
       "    .dataframe tbody tr th {\n",
       "        vertical-align: top;\n",
       "    }\n",
       "\n",
       "    .dataframe thead th {\n",
       "        text-align: right;\n",
       "    }\n",
       "</style>\n",
       "<table border=\"1\" class=\"dataframe\">\n",
       "  <thead>\n",
       "    <tr style=\"text-align: right;\">\n",
       "      <th></th>\n",
       "      <th>id</th>\n",
       "      <th>summary</th>\n",
       "      <th>genre_list</th>\n",
       "    </tr>\n",
       "  </thead>\n",
       "  <tbody>\n",
       "    <tr>\n",
       "      <th>0</th>\n",
       "      <td>1</td>\n",
       "      <td>The ultimate thief is back! Tread softly as yo...</td>\n",
       "      <td>[Shooter, Simulator, Adventure]</td>\n",
       "    </tr>\n",
       "    <tr>\n",
       "      <th>1</th>\n",
       "      <td>2</td>\n",
       "      <td>Thief is a first-person stealth game that like...</td>\n",
       "      <td>[Simulator, Adventure]</td>\n",
       "    </tr>\n",
       "    <tr>\n",
       "      <th>2</th>\n",
       "      <td>3</td>\n",
       "      <td>In the third instalment of the Thief series, m...</td>\n",
       "      <td>[Shooter, Simulator, Adventure]</td>\n",
       "    </tr>\n",
       "    <tr>\n",
       "      <th>3</th>\n",
       "      <td>4</td>\n",
       "      <td>There is a rising tide of fear in The City. Ha...</td>\n",
       "      <td>[Shooter, Adventure]</td>\n",
       "    </tr>\n",
       "    <tr>\n",
       "      <th>4</th>\n",
       "      <td>5</td>\n",
       "      <td>Baldur's Gate is a fantasy role-playing video ...</td>\n",
       "      <td>[Role-playing (RPG)]</td>\n",
       "    </tr>\n",
       "    <tr>\n",
       "      <th>...</th>\n",
       "      <td>...</td>\n",
       "      <td>...</td>\n",
       "      <td>...</td>\n",
       "    </tr>\n",
       "    <tr>\n",
       "      <th>40851</th>\n",
       "      <td>49994</td>\n",
       "      <td>Get out the rod and reel, because the challeng...</td>\n",
       "      <td>[Sport]</td>\n",
       "    </tr>\n",
       "    <tr>\n",
       "      <th>40852</th>\n",
       "      <td>49995</td>\n",
       "      <td>Tech Deck Skateboarding challenges you to pull...</td>\n",
       "      <td>[Sport]</td>\n",
       "    </tr>\n",
       "    <tr>\n",
       "      <th>40853</th>\n",
       "      <td>49997</td>\n",
       "      <td>Can you trap the elusive line of energy that's...</td>\n",
       "      <td>[Puzzle]</td>\n",
       "    </tr>\n",
       "    <tr>\n",
       "      <th>40854</th>\n",
       "      <td>49998</td>\n",
       "      <td>David O'Leary's Total Soccer 2000 is a soccer ...</td>\n",
       "      <td>[Sport]</td>\n",
       "    </tr>\n",
       "    <tr>\n",
       "      <th>40855</th>\n",
       "      <td>50000</td>\n",
       "      <td>A puzzle game based on the German cartoon.</td>\n",
       "      <td>[Puzzle]</td>\n",
       "    </tr>\n",
       "  </tbody>\n",
       "</table>\n",
       "<p>40856 rows × 3 columns</p>\n",
       "</div>"
      ],
      "text/plain": [
       "          id                                            summary  \\\n",
       "0          1  The ultimate thief is back! Tread softly as yo...   \n",
       "1          2  Thief is a first-person stealth game that like...   \n",
       "2          3  In the third instalment of the Thief series, m...   \n",
       "3          4  There is a rising tide of fear in The City. Ha...   \n",
       "4          5  Baldur's Gate is a fantasy role-playing video ...   \n",
       "...      ...                                                ...   \n",
       "40851  49994  Get out the rod and reel, because the challeng...   \n",
       "40852  49995  Tech Deck Skateboarding challenges you to pull...   \n",
       "40853  49997  Can you trap the elusive line of energy that's...   \n",
       "40854  49998  David O'Leary's Total Soccer 2000 is a soccer ...   \n",
       "40855  50000         A puzzle game based on the German cartoon.   \n",
       "\n",
       "                            genre_list  \n",
       "0      [Shooter, Simulator, Adventure]  \n",
       "1               [Simulator, Adventure]  \n",
       "2      [Shooter, Simulator, Adventure]  \n",
       "3                 [Shooter, Adventure]  \n",
       "4                 [Role-playing (RPG)]  \n",
       "...                                ...  \n",
       "40851                          [Sport]  \n",
       "40852                          [Sport]  \n",
       "40853                         [Puzzle]  \n",
       "40854                          [Sport]  \n",
       "40855                         [Puzzle]  \n",
       "\n",
       "[40856 rows x 3 columns]"
      ]
     },
     "execution_count": 6,
     "metadata": {},
     "output_type": "execute_result"
    }
   ],
   "source": [
    "from ast import literal_eval \n",
    "\n",
    "fullinfo_df = vgame0_df.copy()\n",
    "fullinfo_df = fullinfo_df[[\"id\", \"summary\", \"genre_list\"]]\n",
    "fullinfo_df['genre_list'] = fullinfo_df['genre_list'].apply(literal_eval)\n",
    "fullinfo_df"
   ]
  },
  {
   "cell_type": "code",
   "execution_count": 7,
   "metadata": {},
   "outputs": [
    {
     "data": {
      "text/html": [
       "<div>\n",
       "<style scoped>\n",
       "    .dataframe tbody tr th:only-of-type {\n",
       "        vertical-align: middle;\n",
       "    }\n",
       "\n",
       "    .dataframe tbody tr th {\n",
       "        vertical-align: top;\n",
       "    }\n",
       "\n",
       "    .dataframe thead th {\n",
       "        text-align: right;\n",
       "    }\n",
       "</style>\n",
       "<table border=\"1\" class=\"dataframe\">\n",
       "  <thead>\n",
       "    <tr style=\"text-align: right;\">\n",
       "      <th></th>\n",
       "      <th>id</th>\n",
       "      <th>summary</th>\n",
       "      <th>genre_list</th>\n",
       "    </tr>\n",
       "  </thead>\n",
       "  <tbody>\n",
       "    <tr>\n",
       "      <th>0</th>\n",
       "      <td>1</td>\n",
       "      <td>The ultimate thief is back! Tread softly as yo...</td>\n",
       "      <td>Shooter</td>\n",
       "    </tr>\n",
       "    <tr>\n",
       "      <th>1</th>\n",
       "      <td>1</td>\n",
       "      <td>The ultimate thief is back! Tread softly as yo...</td>\n",
       "      <td>Simulator</td>\n",
       "    </tr>\n",
       "    <tr>\n",
       "      <th>2</th>\n",
       "      <td>1</td>\n",
       "      <td>The ultimate thief is back! Tread softly as yo...</td>\n",
       "      <td>Adventure</td>\n",
       "    </tr>\n",
       "    <tr>\n",
       "      <th>3</th>\n",
       "      <td>2</td>\n",
       "      <td>Thief is a first-person stealth game that like...</td>\n",
       "      <td>Simulator</td>\n",
       "    </tr>\n",
       "    <tr>\n",
       "      <th>4</th>\n",
       "      <td>2</td>\n",
       "      <td>Thief is a first-person stealth game that like...</td>\n",
       "      <td>Adventure</td>\n",
       "    </tr>\n",
       "    <tr>\n",
       "      <th>...</th>\n",
       "      <td>...</td>\n",
       "      <td>...</td>\n",
       "      <td>...</td>\n",
       "    </tr>\n",
       "    <tr>\n",
       "      <th>81359</th>\n",
       "      <td>49994</td>\n",
       "      <td>Get out the rod and reel, because the challeng...</td>\n",
       "      <td>Sport</td>\n",
       "    </tr>\n",
       "    <tr>\n",
       "      <th>81360</th>\n",
       "      <td>49995</td>\n",
       "      <td>Tech Deck Skateboarding challenges you to pull...</td>\n",
       "      <td>Sport</td>\n",
       "    </tr>\n",
       "    <tr>\n",
       "      <th>81361</th>\n",
       "      <td>49997</td>\n",
       "      <td>Can you trap the elusive line of energy that's...</td>\n",
       "      <td>Puzzle</td>\n",
       "    </tr>\n",
       "    <tr>\n",
       "      <th>81362</th>\n",
       "      <td>49998</td>\n",
       "      <td>David O'Leary's Total Soccer 2000 is a soccer ...</td>\n",
       "      <td>Sport</td>\n",
       "    </tr>\n",
       "    <tr>\n",
       "      <th>81363</th>\n",
       "      <td>50000</td>\n",
       "      <td>A puzzle game based on the German cartoon.</td>\n",
       "      <td>Puzzle</td>\n",
       "    </tr>\n",
       "  </tbody>\n",
       "</table>\n",
       "<p>81364 rows × 3 columns</p>\n",
       "</div>"
      ],
      "text/plain": [
       "          id                                            summary genre_list\n",
       "0          1  The ultimate thief is back! Tread softly as yo...    Shooter\n",
       "1          1  The ultimate thief is back! Tread softly as yo...  Simulator\n",
       "2          1  The ultimate thief is back! Tread softly as yo...  Adventure\n",
       "3          2  Thief is a first-person stealth game that like...  Simulator\n",
       "4          2  Thief is a first-person stealth game that like...  Adventure\n",
       "...      ...                                                ...        ...\n",
       "81359  49994  Get out the rod and reel, because the challeng...      Sport\n",
       "81360  49995  Tech Deck Skateboarding challenges you to pull...      Sport\n",
       "81361  49997  Can you trap the elusive line of energy that's...     Puzzle\n",
       "81362  49998  David O'Leary's Total Soccer 2000 is a soccer ...      Sport\n",
       "81363  50000         A puzzle game based on the German cartoon.     Puzzle\n",
       "\n",
       "[81364 rows x 3 columns]"
      ]
     },
     "execution_count": 7,
     "metadata": {},
     "output_type": "execute_result"
    }
   ],
   "source": [
    "exploded_vgdf = fullinfo_df.explode('genre_list').reset_index(drop=True)\n",
    "exploded_vgdf"
   ]
  },
  {
   "attachments": {},
   "cell_type": "markdown",
   "metadata": {},
   "source": [
    "## Count Genre Types\n",
    "---"
   ]
  },
  {
   "cell_type": "code",
   "execution_count": 8,
   "metadata": {},
   "outputs": [
    {
     "name": "stdout",
     "output_type": "stream",
     "text": [
      "Adventure                     12958\n",
      "Indie                         11677\n",
      "Strategy                       7325\n",
      "Role-playing (RPG)             6557\n",
      "Simulator                      6475\n",
      "Shooter                        6332\n",
      "Puzzle                         4812\n",
      "Sport                          4684\n",
      "Platform                       4469\n",
      "Arcade                         3572\n",
      "Racing                         2784\n",
      "Fighting                       2095\n",
      "Hack and slash/Beat 'em up     1365\n",
      "Real Time Strategy (RTS)       1102\n",
      "Turn-based strategy (TBS)      1095\n",
      "Point-and-click                 865\n",
      "Tactical                        858\n",
      "Music                           701\n",
      "Visual Novel                    543\n",
      "Quiz/Trivia                     440\n",
      "Card & Board Game               384\n",
      "Pinball                         246\n",
      "MOBA                             25\n",
      "Name: genre_list, dtype: int64\n"
     ]
    },
    {
     "data": {
      "text/plain": [
       "<AxesSubplot: >"
      ]
     },
     "execution_count": 8,
     "metadata": {},
     "output_type": "execute_result"
    },
    {
     "data": {
      "image/png": "[encoded data removed]",
      "text/plain": [
       "<Figure size 432x288 with 1 Axes>"
      ]
     },
     "metadata": {
      "needs_background": "light"
     },
     "output_type": "display_data"
    }
   ],
   "source": [
    "genretype_count = exploded_vgdf['genre_list'].value_counts()\n",
    "print(genretype_count)\n",
    "\n",
    "genretype_count.plot(kind='bar')"
   ]
  },
  {
   "attachments": {},
   "cell_type": "markdown",
   "metadata": {},
   "source": [
    "## EDA Proper (hopefully)\n",
    "---"
   ]
  },
  {
   "cell_type": "code",
   "execution_count": 9,
   "metadata": {},
   "outputs": [
    {
     "data": {
      "text/html": [
       "<div>\n",
       "<style scoped>\n",
       "    .dataframe tbody tr th:only-of-type {\n",
       "        vertical-align: middle;\n",
       "    }\n",
       "\n",
       "    .dataframe tbody tr th {\n",
       "        vertical-align: top;\n",
       "    }\n",
       "\n",
       "    .dataframe thead th {\n",
       "        text-align: right;\n",
       "    }\n",
       "</style>\n",
       "<table border=\"1\" class=\"dataframe\">\n",
       "  <thead>\n",
       "    <tr style=\"text-align: right;\">\n",
       "      <th></th>\n",
       "      <th>id</th>\n",
       "      <th>summary</th>\n",
       "      <th>genre_list</th>\n",
       "    </tr>\n",
       "  </thead>\n",
       "  <tbody>\n",
       "    <tr>\n",
       "      <th>0</th>\n",
       "      <td>1</td>\n",
       "      <td>The ultimate thief is back! Tread softly as yo...</td>\n",
       "      <td>[Shooter, Simulator, Adventure]</td>\n",
       "    </tr>\n",
       "    <tr>\n",
       "      <th>1</th>\n",
       "      <td>2</td>\n",
       "      <td>Thief is a first-person stealth game that like...</td>\n",
       "      <td>[Simulator, Adventure]</td>\n",
       "    </tr>\n",
       "    <tr>\n",
       "      <th>2</th>\n",
       "      <td>3</td>\n",
       "      <td>In the third instalment of the Thief series, m...</td>\n",
       "      <td>[Shooter, Simulator, Adventure]</td>\n",
       "    </tr>\n",
       "    <tr>\n",
       "      <th>3</th>\n",
       "      <td>4</td>\n",
       "      <td>There is a rising tide of fear in The City. Ha...</td>\n",
       "      <td>[Shooter, Adventure]</td>\n",
       "    </tr>\n",
       "    <tr>\n",
       "      <th>4</th>\n",
       "      <td>5</td>\n",
       "      <td>Baldur's Gate is a fantasy role-playing video ...</td>\n",
       "      <td>[Role-playing (RPG)]</td>\n",
       "    </tr>\n",
       "    <tr>\n",
       "      <th>5</th>\n",
       "      <td>6</td>\n",
       "      <td>Every World has conflict. Good and evil. Frien...</td>\n",
       "      <td>[Role-playing (RPG)]</td>\n",
       "    </tr>\n",
       "    <tr>\n",
       "      <th>6</th>\n",
       "      <td>7</td>\n",
       "      <td>Desperately you are called to the island of Me...</td>\n",
       "      <td>[Role-playing (RPG), Strategy, Turn-based stra...</td>\n",
       "    </tr>\n",
       "    <tr>\n",
       "      <th>7</th>\n",
       "      <td>8</td>\n",
       "      <td>The enemy is on the run. One more mortar shell...</td>\n",
       "      <td>[Role-playing (RPG), Strategy, Turn-based stra...</td>\n",
       "    </tr>\n",
       "    <tr>\n",
       "      <th>8</th>\n",
       "      <td>9</td>\n",
       "      <td>Jagged Alliance 2 is a perfect blend of strate...</td>\n",
       "      <td>[Role-playing (RPG), Strategy, Turn-based stra...</td>\n",
       "    </tr>\n",
       "    <tr>\n",
       "      <th>9</th>\n",
       "      <td>10</td>\n",
       "      <td>Step into the role of an aspiring martial-arts...</td>\n",
       "      <td>[Role-playing (RPG), Adventure]</td>\n",
       "    </tr>\n",
       "  </tbody>\n",
       "</table>\n",
       "</div>"
      ],
      "text/plain": [
       "   id                                            summary  \\\n",
       "0   1  The ultimate thief is back! Tread softly as yo...   \n",
       "1   2  Thief is a first-person stealth game that like...   \n",
       "2   3  In the third instalment of the Thief series, m...   \n",
       "3   4  There is a rising tide of fear in The City. Ha...   \n",
       "4   5  Baldur's Gate is a fantasy role-playing video ...   \n",
       "5   6  Every World has conflict. Good and evil. Frien...   \n",
       "6   7  Desperately you are called to the island of Me...   \n",
       "7   8  The enemy is on the run. One more mortar shell...   \n",
       "8   9  Jagged Alliance 2 is a perfect blend of strate...   \n",
       "9  10  Step into the role of an aspiring martial-arts...   \n",
       "\n",
       "                                          genre_list  \n",
       "0                    [Shooter, Simulator, Adventure]  \n",
       "1                             [Simulator, Adventure]  \n",
       "2                    [Shooter, Simulator, Adventure]  \n",
       "3                               [Shooter, Adventure]  \n",
       "4                               [Role-playing (RPG)]  \n",
       "5                               [Role-playing (RPG)]  \n",
       "6  [Role-playing (RPG), Strategy, Turn-based stra...  \n",
       "7  [Role-playing (RPG), Strategy, Turn-based stra...  \n",
       "8  [Role-playing (RPG), Strategy, Turn-based stra...  \n",
       "9                    [Role-playing (RPG), Adventure]  "
      ]
     },
     "execution_count": 9,
     "metadata": {},
     "output_type": "execute_result"
    }
   ],
   "source": [
    "fullinfo_df.head(10)"
   ]
  },
  {
   "attachments": {},
   "cell_type": "markdown",
   "metadata": {},
   "source": [
    "## Check word count for summary\n",
    "---"
   ]
  },
  {
   "cell_type": "code",
   "execution_count": 10,
   "metadata": {},
   "outputs": [
    {
     "data": {
      "text/plain": [
       "count    40856.000000\n",
       "mean        74.705943\n",
       "std         67.436670\n",
       "min          1.000000\n",
       "25%         32.000000\n",
       "50%         55.000000\n",
       "75%         98.000000\n",
       "max       1632.000000\n",
       "dtype: float64"
      ]
     },
     "metadata": {},
     "output_type": "display_data"
    },
    {
     "data": {
      "image/png": "[encoded data removed]",
      "text/plain": [
       "<Figure size 576x360 with 1 Axes>"
      ]
     },
     "metadata": {
      "needs_background": "light"
     },
     "output_type": "display_data"
    }
   ],
   "source": [
    "import matplotlib.pyplot as plt\n",
    "\n",
    "summary_series = fullinfo_df['summary']\n",
    "word_count = [len(sentence.split()) for sentence in summary_series]\n",
    "\n",
    "display(pd.Series(word_count).describe())\n",
    "\n",
    "# Plot the distribution\n",
    "plt.figure(figsize=[8,5])\n",
    "plt.hist(word_count, bins = 40)\n",
    "plt.xlabel('Word Count/Question')\n",
    "plt.ylabel('# of Occurences')\n",
    "plt.title(\"Frequency of Word Counts/sentence\")\n",
    "plt.show()"
   ]
  },
  {
   "attachments": {},
   "cell_type": "markdown",
   "metadata": {},
   "source": [
    "Finding the one with apparently 1 word count 👁👄👁. (might have to filter these out, idk pa lmao)"
   ]
  },
  {
   "cell_type": "code",
   "execution_count": 11,
   "metadata": {},
   "outputs": [
    {
     "data": {
      "text/html": [
       "<div>\n",
       "<style scoped>\n",
       "    .dataframe tbody tr th:only-of-type {\n",
       "        vertical-align: middle;\n",
       "    }\n",
       "\n",
       "    .dataframe tbody tr th {\n",
       "        vertical-align: top;\n",
       "    }\n",
       "\n",
       "    .dataframe thead th {\n",
       "        text-align: right;\n",
       "    }\n",
       "</style>\n",
       "<table border=\"1\" class=\"dataframe\">\n",
       "  <thead>\n",
       "    <tr style=\"text-align: right;\">\n",
       "      <th></th>\n",
       "      <th>id</th>\n",
       "      <th>summary</th>\n",
       "      <th>genre_list</th>\n",
       "    </tr>\n",
       "  </thead>\n",
       "  <tbody>\n",
       "    <tr>\n",
       "      <th>258</th>\n",
       "      <td>269</td>\n",
       "      <td>Another mobile Deer Hunter.</td>\n",
       "      <td>[Shooter, Simulator, Sport]</td>\n",
       "    </tr>\n",
       "    <tr>\n",
       "      <th>608</th>\n",
       "      <td>632</td>\n",
       "      <td>A Chessmaster game from 1998.</td>\n",
       "      <td>[Sport, Strategy]</td>\n",
       "    </tr>\n",
       "    <tr>\n",
       "      <th>715</th>\n",
       "      <td>747</td>\n",
       "      <td>A flight simulator.</td>\n",
       "      <td>[Shooter, Simulator]</td>\n",
       "    </tr>\n",
       "    <tr>\n",
       "      <th>1929</th>\n",
       "      <td>2026</td>\n",
       "      <td>Amazon Exclusive Steel Book Edition</td>\n",
       "      <td>[Role-playing (RPG), Indie]</td>\n",
       "    </tr>\n",
       "    <tr>\n",
       "      <th>2153</th>\n",
       "      <td>2309</td>\n",
       "      <td>Anime Melee</td>\n",
       "      <td>[Adventure]</td>\n",
       "    </tr>\n",
       "    <tr>\n",
       "      <th>...</th>\n",
       "      <td>...</td>\n",
       "      <td>...</td>\n",
       "      <td>...</td>\n",
       "    </tr>\n",
       "    <tr>\n",
       "      <th>38880</th>\n",
       "      <td>47530</td>\n",
       "      <td>Early Japanese open-world RPG</td>\n",
       "      <td>[Role-playing (RPG)]</td>\n",
       "    </tr>\n",
       "    <tr>\n",
       "      <th>38999</th>\n",
       "      <td>47709</td>\n",
       "      <td>Simulates baby care, or something.</td>\n",
       "      <td>[Simulator]</td>\n",
       "    </tr>\n",
       "    <tr>\n",
       "      <th>39709</th>\n",
       "      <td>48561</td>\n",
       "      <td>Mother 25th Anniversary Edition</td>\n",
       "      <td>[Role-playing (RPG), Adventure]</td>\n",
       "    </tr>\n",
       "    <tr>\n",
       "      <th>40626</th>\n",
       "      <td>49719</td>\n",
       "      <td>Japanese festival RPG.</td>\n",
       "      <td>[Role-playing (RPG), Card &amp; Board Game]</td>\n",
       "    </tr>\n",
       "    <tr>\n",
       "      <th>40668</th>\n",
       "      <td>49768</td>\n",
       "      <td>The Japanese-only sequel to Pinobee.</td>\n",
       "      <td>[Platform]</td>\n",
       "    </tr>\n",
       "  </tbody>\n",
       "</table>\n",
       "<p>355 rows × 3 columns</p>\n",
       "</div>"
      ],
      "text/plain": [
       "          id                               summary  \\\n",
       "258      269           Another mobile Deer Hunter.   \n",
       "608      632         A Chessmaster game from 1998.   \n",
       "715      747                   A flight simulator.   \n",
       "1929    2026   Amazon Exclusive Steel Book Edition   \n",
       "2153    2309                           Anime Melee   \n",
       "...      ...                                   ...   \n",
       "38880  47530         Early Japanese open-world RPG   \n",
       "38999  47709    Simulates baby care, or something.   \n",
       "39709  48561       Mother 25th Anniversary Edition   \n",
       "40626  49719                Japanese festival RPG.   \n",
       "40668  49768  The Japanese-only sequel to Pinobee.   \n",
       "\n",
       "                                    genre_list  \n",
       "258                [Shooter, Simulator, Sport]  \n",
       "608                          [Sport, Strategy]  \n",
       "715                       [Shooter, Simulator]  \n",
       "1929               [Role-playing (RPG), Indie]  \n",
       "2153                               [Adventure]  \n",
       "...                                        ...  \n",
       "38880                     [Role-playing (RPG)]  \n",
       "38999                              [Simulator]  \n",
       "39709          [Role-playing (RPG), Adventure]  \n",
       "40626  [Role-playing (RPG), Card & Board Game]  \n",
       "40668                               [Platform]  \n",
       "\n",
       "[355 rows x 3 columns]"
      ]
     },
     "execution_count": 11,
     "metadata": {},
     "output_type": "execute_result"
    }
   ],
   "source": [
    "smallcount_df = fullinfo_df[fullinfo_df['summary'].apply(lambda x: len(x.split()) <= 5)]\n",
    "len(smallcount_df)\n",
    "\n",
    "smallcount_df"
   ]
  },
  {
   "attachments": {},
   "cell_type": "markdown",
   "metadata": {},
   "source": [
    "## Multilabel Binarization\n",
    "---"
   ]
  },
  {
   "cell_type": "code",
   "execution_count": 12,
   "metadata": {},
   "outputs": [],
   "source": [
    "from sklearn.preprocessing import MultiLabelBinarizer\n",
    "mlb = MultiLabelBinarizer()"
   ]
  },
  {
   "cell_type": "code",
   "execution_count": 13,
   "metadata": {},
   "outputs": [
    {
     "data": {
      "text/plain": [
       "0        [Shooter, Simulator, Adventure]\n",
       "1                 [Simulator, Adventure]\n",
       "2        [Shooter, Simulator, Adventure]\n",
       "3                   [Shooter, Adventure]\n",
       "4                   [Role-playing (RPG)]\n",
       "                      ...               \n",
       "40851                            [Sport]\n",
       "40852                            [Sport]\n",
       "40853                           [Puzzle]\n",
       "40854                            [Sport]\n",
       "40855                           [Puzzle]\n",
       "Name: genre_list, Length: 40856, dtype: object"
      ]
     },
     "execution_count": 13,
     "metadata": {},
     "output_type": "execute_result"
    }
   ],
   "source": [
    "fullinfo_df['genre_list']"
   ]
  },
  {
   "cell_type": "code",
   "execution_count": 14,
   "metadata": {},
   "outputs": [
    {
     "data": {
      "text/plain": [
       "(40856, 23)"
      ]
     },
     "execution_count": 14,
     "metadata": {},
     "output_type": "execute_result"
    }
   ],
   "source": [
    "yt = mlb.fit_transform(fullinfo_df['genre_list'])\n",
    "yt.shape"
   ]
  },
  {
   "cell_type": "code",
   "execution_count": 15,
   "metadata": {},
   "outputs": [
    {
     "name": "stdout",
     "output_type": "stream",
     "text": [
      "[1 0 0 0 0 0 0 0 0 0 0 0 0 0 0 0 1 1 0 0 0 0 0]\n",
      "[('Adventure', 'Shooter', 'Simulator')]\n",
      "['Adventure' 'Arcade' 'Card & Board Game' 'Fighting'\n",
      " \"Hack and slash/Beat 'em up\" 'Indie' 'MOBA' 'Music' 'Pinball' 'Platform'\n",
      " 'Point-and-click' 'Puzzle' 'Quiz/Trivia' 'Racing'\n",
      " 'Real Time Strategy (RTS)' 'Role-playing (RPG)' 'Shooter' 'Simulator'\n",
      " 'Sport' 'Strategy' 'Tactical' 'Turn-based strategy (TBS)' 'Visual Novel']\n"
     ]
    }
   ],
   "source": [
    "# Getting a sense of how the tags data looks like\n",
    "print(yt[0])\n",
    "print(mlb.inverse_transform(yt[0].reshape(1,-1)))\n",
    "print(mlb.classes_)"
   ]
  },
  {
   "attachments": {},
   "cell_type": "markdown",
   "metadata": {},
   "source": [
    "## Clean text\n",
    "---"
   ]
  },
  {
   "cell_type": "code",
   "execution_count": 16,
   "metadata": {},
   "outputs": [],
   "source": [
    "import re\n",
    "from bs4 import BeautifulSoup\n",
    "\n",
    "def pre_process(text):\n",
    "\n",
    "  text = BeautifulSoup(text).get_text()\n",
    "  \n",
    "  # fetch alphabetic characters\n",
    "  text = re.sub(\"[^a-zA-Z]\", \" \", text)\n",
    "\n",
    "  # convert text to lower case\n",
    "  text = text.lower()\n",
    "\n",
    "  # split text into tokens to remove whitespaces\n",
    "  tokens = text.split()\n",
    "\n",
    "  return \" \".join(tokens)"
   ]
  },
  {
   "cell_type": "code",
   "execution_count": 17,
   "metadata": {},
   "outputs": [
    {
     "name": "stderr",
     "output_type": "stream",
     "text": [
      "c:\\Users\\Melzarr\\AppData\\Local\\Programs\\Python\\Python310\\lib\\site-packages\\bs4\\__init__.py:435: MarkupResemblesLocatorWarning: The input looks more like a filename than markup. You may want to open this file and pass the filehandle into Beautiful Soup.\n",
      "  warnings.warn(\n",
      "c:\\Users\\Melzarr\\AppData\\Local\\Programs\\Python\\Python310\\lib\\site-packages\\bs4\\__init__.py:404: MarkupResemblesLocatorWarning: The input looks more like a URL than markup. You may want to use an HTTP client like requests to get the document behind the URL, and feed that document to Beautiful Soup.\n",
      "  warnings.warn(\n"
     ]
    }
   ],
   "source": [
    "fullinfo_df['clean_summary'] = fullinfo_df['summary'].apply(pre_process)"
   ]
  },
  {
   "cell_type": "code",
   "execution_count": 18,
   "metadata": {},
   "outputs": [],
   "source": [
    "fullinfo_df.to_csv('cleaned_data_test.csv', index=False)"
   ]
  },
  {
   "cell_type": "code",
   "execution_count": null,
   "metadata": {},
   "outputs": [],
   "source": []
  }
 ],
 "metadata": {
  "kernelspec": {
   "display_name": "Python 3",
   "language": "python",
   "name": "python3"
  },
  "language_info": {
   "codemirror_mode": {
    "name": "ipython",
    "version": 3
   },
   "file_extension": ".py",
   "mimetype": "text/x-python",
   "name": "python",
   "nbconvert_exporter": "python",
   "pygments_lexer": "ipython3",
   "version": "3.10.5"
  },
  "orig_nbformat": 4,
  "vscode": {
   "interpreter": {
    "hash": "591c0779b6128bfc2c376dd674a99fb3f0fc210d9bca6d6f57f1496b6753f9f3"
   }
  }
 },
 "nbformat": 4,
 "nbformat_minor": 2
}
