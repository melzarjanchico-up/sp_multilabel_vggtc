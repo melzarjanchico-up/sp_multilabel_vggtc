{
 "cells": [
  {
   "cell_type": "code",
   "execution_count": 1,
   "metadata": {},
   "outputs": [
    {
     "name": "stdout",
     "output_type": "stream",
     "text": [
      "BERT!\n"
     ]
    }
   ],
   "source": [
    "print(\"BERT!\")"
   ]
  },
  {
   "cell_type": "code",
   "execution_count": 1,
   "metadata": {},
   "outputs": [
    {
     "name": "stdout",
     "output_type": "stream",
     "text": [
      "usage: conda-script.py [-h] [-V] command ...\n",
      "\n",
      "conda is a tool for managing and deploying applications, environments and packages.\n",
      "\n",
      "Options:\n",
      "\n",
      "positional arguments:\n",
      "  command\n",
      "    clean             Remove unused packages and caches.\n",
      "    compare           Compare packages between conda environments.\n",
      "    config            Modify configuration values in .condarc. This is modeled\n",
      "                      after the git config command. Writes to the user\n",
      "                      .condarc file (C:\\Users\\Melzarr\\.condarc) by default.\n",
      "                      Use the --show-sources flag to display all identified\n",
      "                      configuration locations on your computer.\n",
      "    create            Create a new conda environment from a list of specified\n",
      "                      packages.\n",
      "    info              Display information about current conda install.\n",
      "    init              Initialize conda for shell interaction.\n",
      "    install           Installs a list of packages into a specified conda\n",
      "                      environment.\n",
      "    list              List installed packages in a conda environment.\n",
      "    package           Low-level conda package utility. (EXPERIMENTAL)\n",
      "    remove (uninstall)\n",
      "                      Remove a list of packages from a specified conda\n",
      "                      environment.\n",
      "    rename            Renames an existing environment.\n",
      "    run               Run an executable in a conda environment.\n",
      "    search            Search for packages and display associated\n",
      "                      information.The input is a MatchSpec, a query language\n",
      "                      for conda packages. See examples below.\n",
      "    update (upgrade)  Updates conda packages to the latest compatible version.\n",
      "    notices           Retrieves latest channel notifications.\n",
      "\n",
      "options:\n",
      "  -h, --help          Show this help message and exit.\n",
      "  -V, --version       Show the conda version number and exit.\n",
      "\n",
      "conda commands available from other packages (legacy):\n",
      "  build\n",
      "  content-trust\n",
      "  convert\n",
      "  debug\n",
      "  develop\n",
      "  env\n",
      "  index\n",
      "  inspect\n",
      "  metapackage\n",
      "  pack\n",
      "  render\n",
      "  repo\n",
      "  server\n",
      "  skeleton\n",
      "  token\n",
      "  verify\n",
      "\n",
      "Note: you may need to restart the kernel to use updated packages.\n"
     ]
    }
   ],
   "source": [
    "%conda"
   ]
  },
  {
   "cell_type": "code",
   "execution_count": null,
   "metadata": {},
   "outputs": [],
   "source": []
  }
 ],
 "metadata": {
  "kernelspec": {
   "display_name": "Python 3",
   "language": "python",
   "name": "python3"
  },
  "language_info": {
   "codemirror_mode": {
    "name": "ipython",
    "version": 3
   },
   "file_extension": ".py",
   "mimetype": "text/x-python",
   "name": "python",
   "nbconvert_exporter": "python",
   "pygments_lexer": "ipython3",
   "version": "3.10.5"
  },
  "orig_nbformat": 4
 },
 "nbformat": 4,
 "nbformat_minor": 2
}
