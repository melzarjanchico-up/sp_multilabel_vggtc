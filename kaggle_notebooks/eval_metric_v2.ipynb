{
 "cells": [
  {
   "cell_type": "code",
   "execution_count": 2,
   "metadata": {},
   "outputs": [],
   "source": [
    "import pandas as pd\n",
    "\n",
    "actual_df = pd.read_csv('./evaluation_test/v1_actual.csv')\n",
    "predictions_df = pd.read_csv('./evaluation_test/v2_predictions.csv')"
   ]
  },
  {
   "cell_type": "code",
   "execution_count": 3,
   "metadata": {},
   "outputs": [
    {
     "data": {
      "text/html": [
       "<div>\n",
       "<style scoped>\n",
       "    .dataframe tbody tr th:only-of-type {\n",
       "        vertical-align: middle;\n",
       "    }\n",
       "\n",
       "    .dataframe tbody tr th {\n",
       "        vertical-align: top;\n",
       "    }\n",
       "\n",
       "    .dataframe thead th {\n",
       "        text-align: right;\n",
       "    }\n",
       "</style>\n",
       "<table border=\"1\" class=\"dataframe\">\n",
       "  <thead>\n",
       "    <tr style=\"text-align: right;\">\n",
       "      <th></th>\n",
       "      <th>id</th>\n",
       "      <th>action</th>\n",
       "      <th>adventure</th>\n",
       "      <th>arcade</th>\n",
       "      <th>cardboard</th>\n",
       "      <th>indie</th>\n",
       "      <th>puzzle</th>\n",
       "      <th>quiz</th>\n",
       "      <th>rpg</th>\n",
       "      <th>simulation</th>\n",
       "      <th>strategy</th>\n",
       "    </tr>\n",
       "  </thead>\n",
       "  <tbody>\n",
       "    <tr>\n",
       "      <th>0</th>\n",
       "      <td>226372</td>\n",
       "      <td>0</td>\n",
       "      <td>0</td>\n",
       "      <td>0</td>\n",
       "      <td>0</td>\n",
       "      <td>1</td>\n",
       "      <td>0</td>\n",
       "      <td>0</td>\n",
       "      <td>1</td>\n",
       "      <td>0</td>\n",
       "      <td>1</td>\n",
       "    </tr>\n",
       "    <tr>\n",
       "      <th>1</th>\n",
       "      <td>26491</td>\n",
       "      <td>0</td>\n",
       "      <td>1</td>\n",
       "      <td>0</td>\n",
       "      <td>0</td>\n",
       "      <td>1</td>\n",
       "      <td>0</td>\n",
       "      <td>0</td>\n",
       "      <td>0</td>\n",
       "      <td>0</td>\n",
       "      <td>0</td>\n",
       "    </tr>\n",
       "    <tr>\n",
       "      <th>2</th>\n",
       "      <td>176024</td>\n",
       "      <td>0</td>\n",
       "      <td>0</td>\n",
       "      <td>0</td>\n",
       "      <td>1</td>\n",
       "      <td>0</td>\n",
       "      <td>0</td>\n",
       "      <td>0</td>\n",
       "      <td>0</td>\n",
       "      <td>0</td>\n",
       "      <td>0</td>\n",
       "    </tr>\n",
       "    <tr>\n",
       "      <th>3</th>\n",
       "      <td>186954</td>\n",
       "      <td>1</td>\n",
       "      <td>0</td>\n",
       "      <td>1</td>\n",
       "      <td>0</td>\n",
       "      <td>0</td>\n",
       "      <td>1</td>\n",
       "      <td>0</td>\n",
       "      <td>0</td>\n",
       "      <td>0</td>\n",
       "      <td>0</td>\n",
       "    </tr>\n",
       "    <tr>\n",
       "      <th>4</th>\n",
       "      <td>12910</td>\n",
       "      <td>1</td>\n",
       "      <td>0</td>\n",
       "      <td>0</td>\n",
       "      <td>0</td>\n",
       "      <td>0</td>\n",
       "      <td>0</td>\n",
       "      <td>0</td>\n",
       "      <td>0</td>\n",
       "      <td>0</td>\n",
       "      <td>0</td>\n",
       "    </tr>\n",
       "  </tbody>\n",
       "</table>\n",
       "</div>"
      ],
      "text/plain": [
       "       id  action  adventure  arcade  cardboard  indie  puzzle  quiz  rpg  \\\n",
       "0  226372       0          0       0          0      1       0     0    1   \n",
       "1   26491       0          1       0          0      1       0     0    0   \n",
       "2  176024       0          0       0          1      0       0     0    0   \n",
       "3  186954       1          0       1          0      0       1     0    0   \n",
       "4   12910       1          0       0          0      0       0     0    0   \n",
       "\n",
       "   simulation  strategy  \n",
       "0           0         1  \n",
       "1           0         0  \n",
       "2           0         0  \n",
       "3           0         0  \n",
       "4           0         0  "
      ]
     },
     "execution_count": 3,
     "metadata": {},
     "output_type": "execute_result"
    }
   ],
   "source": [
    "actual_df.head()"
   ]
  },
  {
   "cell_type": "code",
   "execution_count": 4,
   "metadata": {},
   "outputs": [
    {
     "data": {
      "text/html": [
       "<div>\n",
       "<style scoped>\n",
       "    .dataframe tbody tr th:only-of-type {\n",
       "        vertical-align: middle;\n",
       "    }\n",
       "\n",
       "    .dataframe tbody tr th {\n",
       "        vertical-align: top;\n",
       "    }\n",
       "\n",
       "    .dataframe thead th {\n",
       "        text-align: right;\n",
       "    }\n",
       "</style>\n",
       "<table border=\"1\" class=\"dataframe\">\n",
       "  <thead>\n",
       "    <tr style=\"text-align: right;\">\n",
       "      <th></th>\n",
       "      <th>id</th>\n",
       "      <th>action</th>\n",
       "      <th>adventure</th>\n",
       "      <th>arcade</th>\n",
       "      <th>cardboard</th>\n",
       "      <th>indie</th>\n",
       "      <th>puzzle</th>\n",
       "      <th>quiz</th>\n",
       "      <th>rpg</th>\n",
       "      <th>simulation</th>\n",
       "      <th>strategy</th>\n",
       "    </tr>\n",
       "  </thead>\n",
       "  <tbody>\n",
       "    <tr>\n",
       "      <th>0</th>\n",
       "      <td>226372</td>\n",
       "      <td>0.008810</td>\n",
       "      <td>0.159731</td>\n",
       "      <td>0.007491</td>\n",
       "      <td>0.020236</td>\n",
       "      <td>0.726060</td>\n",
       "      <td>0.016342</td>\n",
       "      <td>0.001220</td>\n",
       "      <td>0.170064</td>\n",
       "      <td>0.050393</td>\n",
       "      <td>0.986232</td>\n",
       "    </tr>\n",
       "    <tr>\n",
       "      <th>1</th>\n",
       "      <td>26491</td>\n",
       "      <td>0.029391</td>\n",
       "      <td>0.718360</td>\n",
       "      <td>0.012294</td>\n",
       "      <td>0.005714</td>\n",
       "      <td>0.544241</td>\n",
       "      <td>0.346233</td>\n",
       "      <td>0.002419</td>\n",
       "      <td>0.060064</td>\n",
       "      <td>0.035923</td>\n",
       "      <td>0.058145</td>\n",
       "    </tr>\n",
       "    <tr>\n",
       "      <th>2</th>\n",
       "      <td>176024</td>\n",
       "      <td>0.004948</td>\n",
       "      <td>0.026186</td>\n",
       "      <td>0.045605</td>\n",
       "      <td>0.677274</td>\n",
       "      <td>0.014303</td>\n",
       "      <td>0.092662</td>\n",
       "      <td>0.109726</td>\n",
       "      <td>0.009931</td>\n",
       "      <td>0.114815</td>\n",
       "      <td>0.413238</td>\n",
       "    </tr>\n",
       "    <tr>\n",
       "      <th>3</th>\n",
       "      <td>186954</td>\n",
       "      <td>0.244318</td>\n",
       "      <td>0.058361</td>\n",
       "      <td>0.291578</td>\n",
       "      <td>0.008872</td>\n",
       "      <td>0.027254</td>\n",
       "      <td>0.873210</td>\n",
       "      <td>0.002611</td>\n",
       "      <td>0.002738</td>\n",
       "      <td>0.006501</td>\n",
       "      <td>0.085331</td>\n",
       "    </tr>\n",
       "    <tr>\n",
       "      <th>4</th>\n",
       "      <td>12910</td>\n",
       "      <td>0.906381</td>\n",
       "      <td>0.428268</td>\n",
       "      <td>0.109081</td>\n",
       "      <td>0.001020</td>\n",
       "      <td>0.014678</td>\n",
       "      <td>0.079773</td>\n",
       "      <td>0.001986</td>\n",
       "      <td>0.005496</td>\n",
       "      <td>0.018491</td>\n",
       "      <td>0.013735</td>\n",
       "    </tr>\n",
       "  </tbody>\n",
       "</table>\n",
       "</div>"
      ],
      "text/plain": [
       "       id    action  adventure    arcade  cardboard     indie    puzzle  \\\n",
       "0  226372  0.008810   0.159731  0.007491   0.020236  0.726060  0.016342   \n",
       "1   26491  0.029391   0.718360  0.012294   0.005714  0.544241  0.346233   \n",
       "2  176024  0.004948   0.026186  0.045605   0.677274  0.014303  0.092662   \n",
       "3  186954  0.244318   0.058361  0.291578   0.008872  0.027254  0.873210   \n",
       "4   12910  0.906381   0.428268  0.109081   0.001020  0.014678  0.079773   \n",
       "\n",
       "       quiz       rpg  simulation  strategy  \n",
       "0  0.001220  0.170064    0.050393  0.986232  \n",
       "1  0.002419  0.060064    0.035923  0.058145  \n",
       "2  0.109726  0.009931    0.114815  0.413238  \n",
       "3  0.002611  0.002738    0.006501  0.085331  \n",
       "4  0.001986  0.005496    0.018491  0.013735  "
      ]
     },
     "execution_count": 4,
     "metadata": {},
     "output_type": "execute_result"
    }
   ],
   "source": [
    "predictions_df.head()"
   ]
  },
  {
   "cell_type": "code",
   "execution_count": 5,
   "metadata": {},
   "outputs": [],
   "source": [
    "import numpy as np\n",
    "import pandas as pd\n",
    "from tqdm import tqdm\n",
    "from sklearn import metrics\n",
    "import transformers\n",
    "import torch\n",
    "import string\n",
    "import torchmetrics\n",
    "\n",
    "from transformers import pipeline\n",
    "from tqdm.notebook import tqdm\n",
    "tqdm.pandas()"
   ]
  },
  {
   "cell_type": "code",
   "execution_count": 6,
   "metadata": {},
   "outputs": [
    {
     "name": "stdout",
     "output_type": "stream",
     "text": [
      "Note: you may need to restart the kernel to use updated packages.\n"
     ]
    },
    {
     "name": "stderr",
     "output_type": "stream",
     "text": [
      "\n",
      "[notice] A new release of pip is available: 23.0.1 -> 23.1.2\n",
      "[notice] To update, run: python.exe -m pip install --upgrade pip\n"
     ]
    }
   ],
   "source": [
    "%pip install -q torchmetrics watermark"
   ]
  },
  {
   "cell_type": "code",
   "execution_count": 7,
   "metadata": {},
   "outputs": [],
   "source": [
    "%load_ext watermark"
   ]
  },
  {
   "cell_type": "code",
   "execution_count": 8,
   "metadata": {},
   "outputs": [
    {
     "name": "stdout",
     "output_type": "stream",
     "text": [
      "torch       : 2.0.0\n",
      "transformers: 4.25.1\n",
      "numpy       : 1.23.5\n",
      "pandas      : 1.4.3\n",
      "sklearn     : 1.1.2\n",
      "torchmetrics: 0.11.4\n",
      "\n"
     ]
    }
   ],
   "source": [
    "%watermark --iversions"
   ]
  },
  {
   "cell_type": "code",
   "execution_count": 9,
   "metadata": {},
   "outputs": [],
   "source": [
    "label_columns = [\"action\",\"adventure\",\"arcade\",\"cardboard\",\"indie\",\"puzzle\",\"quiz\",\"rpg\",\"simulation\",\"strategy\"]"
   ]
  },
  {
   "attachments": {},
   "cell_type": "markdown",
   "metadata": {},
   "source": [
    "# 📊 AUC ROC Score\n",
    "---"
   ]
  },
  {
   "cell_type": "code",
   "execution_count": 10,
   "metadata": {},
   "outputs": [
    {
     "name": "stdout",
     "output_type": "stream",
     "text": [
      "Category: action\n",
      "Sklearn score: 0.9071859540966768\n",
      "torchmetrics score: 0.907185971736908\n",
      "##############################\n",
      "\n",
      "Category: adventure\n",
      "Sklearn score: 0.870325932159899\n",
      "torchmetrics score: 0.8703259229660034\n",
      "##############################\n",
      "\n",
      "Category: arcade\n",
      "Sklearn score: 0.8571348652803908\n",
      "torchmetrics score: 0.8571348190307617\n",
      "##############################\n",
      "\n",
      "Category: cardboard\n",
      "Sklearn score: 0.9344433371676153\n",
      "torchmetrics score: 0.9344433546066284\n",
      "##############################\n",
      "\n",
      "Category: indie\n",
      "Sklearn score: 0.8713088723805181\n",
      "torchmetrics score: 0.8713088631629944\n",
      "##############################\n",
      "\n",
      "Category: puzzle\n",
      "Sklearn score: 0.9040885258420909\n",
      "torchmetrics score: 0.9040884375572205\n",
      "##############################\n",
      "\n",
      "Category: quiz\n",
      "Sklearn score: 0.9461386404054666\n",
      "torchmetrics score: 0.9461386203765869\n",
      "##############################\n",
      "\n",
      "Category: rpg\n",
      "Sklearn score: 0.9128770294579969\n",
      "torchmetrics score: 0.9128769636154175\n",
      "##############################\n",
      "\n",
      "Category: simulation\n",
      "Sklearn score: 0.9093891901498953\n",
      "torchmetrics score: 0.9093891382217407\n",
      "##############################\n",
      "\n",
      "Category: strategy\n",
      "Sklearn score: 0.8762539098579474\n",
      "torchmetrics score: 0.8762539625167847\n",
      "##############################\n",
      "\n"
     ]
    }
   ],
   "source": [
    "# score for each genre categories\n",
    "\n",
    "for cat in label_columns:\n",
    "    \n",
    "    print(f\"Category: {cat}\")\n",
    "    print(f\"Sklearn score: {metrics.roc_auc_score(actual_df[cat], predictions_df[cat])}\")\n",
    "    print(f\"torchmetrics score: {torchmetrics.functional.classification.binary_auroc(torch.tensor(predictions_df[cat].values),torch.tensor(actual_df[cat].values), thresholds=None)}\")\n",
    "    print(\"#\" * 30)\n",
    "    print()"
   ]
  },
  {
   "cell_type": "code",
   "execution_count": 11,
   "metadata": {},
   "outputs": [
    {
     "name": "stdout",
     "output_type": "stream",
     "text": [
      "Sklearn score: 0.8989146256798497\n",
      "torchmetrics score: 0.898914635181427\n",
      "\n",
      "Sklearn score (weighted): 0.8867533519179122\n",
      "torchmetrics score (weighted): 0.8867533206939697\n"
     ]
    }
   ],
   "source": [
    "# mean column-wise score on all categories\n",
    "\n",
    "print(f\"Sklearn score: {metrics.roc_auc_score(actual_df[label_columns].values, predictions_df[label_columns].values)}\")\n",
    "print(F\"torchmetrics score: {torchmetrics.functional.classification.multilabel_auroc(torch.tensor(predictions_df[label_columns].values),torch.tensor(actual_df[label_columns].values),num_labels=10,thresholds=None)}\")\n",
    "\n",
    "print()\n",
    "print(f\"Sklearn score (weighted): {metrics.roc_auc_score(actual_df[label_columns].values, predictions_df[label_columns].values, average='weighted')}\")\n",
    "print(F\"torchmetrics score (weighted): {torchmetrics.functional.classification.multilabel_auroc(torch.tensor(predictions_df[label_columns].values),torch.tensor(actual_df[label_columns].values),num_labels=10,thresholds=None,average='weighted' )}\")"
   ]
  },
  {
   "attachments": {},
   "cell_type": "markdown",
   "metadata": {},
   "source": [
    "# 📊 Average Precision Score\n",
    "---"
   ]
  },
  {
   "cell_type": "code",
   "execution_count": 12,
   "metadata": {},
   "outputs": [
    {
     "name": "stdout",
     "output_type": "stream",
     "text": [
      "Category: action\n",
      "Sklearn score: 0.7679323501636987\n",
      "torchmetrics score: 0.7679323554039001\n",
      "##############################\n",
      "\n",
      "Category: adventure\n",
      "Sklearn score: 0.7946430805518749\n",
      "torchmetrics score: 0.7946430444717407\n",
      "##############################\n",
      "\n",
      "Category: arcade\n",
      "Sklearn score: 0.4235999002864591\n",
      "torchmetrics score: 0.42359989881515503\n",
      "##############################\n",
      "\n",
      "Category: cardboard\n",
      "Sklearn score: 0.39719487731151587\n",
      "torchmetrics score: 0.39719486236572266\n",
      "##############################\n",
      "\n",
      "Category: indie\n",
      "Sklearn score: 0.8096693450871373\n",
      "torchmetrics score: 0.8096693754196167\n",
      "##############################\n",
      "\n",
      "Category: puzzle\n",
      "Sklearn score: 0.6633332205879935\n",
      "torchmetrics score: 0.6633331775665283\n",
      "##############################\n",
      "\n",
      "Category: quiz\n",
      "Sklearn score: 0.4950955990761418\n",
      "torchmetrics score: 0.4950955808162689\n",
      "##############################\n",
      "\n",
      "Category: rpg\n",
      "Sklearn score: 0.7197555892964795\n",
      "torchmetrics score: 0.7197555303573608\n",
      "##############################\n",
      "\n",
      "Category: simulation\n",
      "Sklearn score: 0.8447424067134403\n",
      "torchmetrics score: 0.8447424173355103\n",
      "##############################\n",
      "\n",
      "Category: strategy\n",
      "Sklearn score: 0.7298819912184003\n",
      "torchmetrics score: 0.7298819422721863\n",
      "##############################\n",
      "\n"
     ]
    }
   ],
   "source": [
    "# score for each genre categories\n",
    "\n",
    "for cat in label_columns:\n",
    "    \n",
    "    print(f\"Category: {cat}\")\n",
    "    print(f\"Sklearn score: {metrics.average_precision_score(actual_df[cat], predictions_df[cat])}\")\n",
    "    print(f\"torchmetrics score: {torchmetrics.functional.classification.binary_average_precision(torch.tensor(predictions_df[cat].values),torch.tensor(actual_df[cat].values), thresholds=None)}\")\n",
    "    print(\"#\" * 30)\n",
    "    print()"
   ]
  },
  {
   "cell_type": "code",
   "execution_count": 13,
   "metadata": {},
   "outputs": [
    {
     "name": "stdout",
     "output_type": "stream",
     "text": [
      "Sklearn score: 0.6645848360293142\n",
      "torchmetrics score: 0.6645848155021667\n",
      "\n",
      "Sklearn score (weighted): 0.760599373954096\n",
      "torchmetrics score (weighted): 0.7605993747711182\n"
     ]
    }
   ],
   "source": [
    "# mean column-wise score on all categories\n",
    "\n",
    "print(f\"Sklearn score: {metrics.average_precision_score(actual_df[label_columns].values, predictions_df[label_columns].values)}\")\n",
    "print(F\"torchmetrics score: {torchmetrics.functional.classification.multilabel_average_precision(torch.tensor(predictions_df[label_columns].values),torch.tensor(actual_df[label_columns].values),num_labels=10,thresholds=None)}\")\n",
    "\n",
    "print()\n",
    "print(f\"Sklearn score (weighted): {metrics.average_precision_score(actual_df[label_columns].values, predictions_df[label_columns].values, average='weighted')}\")\n",
    "print(F\"torchmetrics score (weighted): {torchmetrics.functional.classification.multilabel_average_precision(torch.tensor(predictions_df[label_columns].values),torch.tensor(actual_df[label_columns].values),num_labels=10,thresholds=None,average='weighted' )}\")"
   ]
  },
  {
   "cell_type": "code",
   "execution_count": null,
   "metadata": {},
   "outputs": [],
   "source": []
  }
 ],
 "metadata": {
  "kernelspec": {
   "display_name": "Python 3",
   "language": "python",
   "name": "python3"
  },
  "language_info": {
   "codemirror_mode": {
    "name": "ipython",
    "version": 3
   },
   "file_extension": ".py",
   "mimetype": "text/x-python",
   "name": "python",
   "nbconvert_exporter": "python",
   "pygments_lexer": "ipython3",
   "version": "3.10.5"
  },
  "orig_nbformat": 4
 },
 "nbformat": 4,
 "nbformat_minor": 2
}
