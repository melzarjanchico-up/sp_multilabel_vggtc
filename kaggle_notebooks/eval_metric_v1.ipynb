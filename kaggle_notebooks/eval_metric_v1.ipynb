{
 "cells": [
  {
   "cell_type": "code",
   "execution_count": 48,
   "metadata": {},
   "outputs": [],
   "source": [
    "import pandas as pd\n",
    "\n",
    "actual_df = pd.read_csv('./evaluation_test/v1_actual.csv')\n",
    "predictions_df = pd.read_csv('./evaluation_test/v1_predictions.csv')"
   ]
  },
  {
   "cell_type": "code",
   "execution_count": 49,
   "metadata": {},
   "outputs": [
    {
     "data": {
      "text/html": [
       "<div>\n",
       "<style scoped>\n",
       "    .dataframe tbody tr th:only-of-type {\n",
       "        vertical-align: middle;\n",
       "    }\n",
       "\n",
       "    .dataframe tbody tr th {\n",
       "        vertical-align: top;\n",
       "    }\n",
       "\n",
       "    .dataframe thead th {\n",
       "        text-align: right;\n",
       "    }\n",
       "</style>\n",
       "<table border=\"1\" class=\"dataframe\">\n",
       "  <thead>\n",
       "    <tr style=\"text-align: right;\">\n",
       "      <th></th>\n",
       "      <th>id</th>\n",
       "      <th>action</th>\n",
       "      <th>adventure</th>\n",
       "      <th>arcade</th>\n",
       "      <th>cardboard</th>\n",
       "      <th>indie</th>\n",
       "      <th>puzzle</th>\n",
       "      <th>quiz</th>\n",
       "      <th>rpg</th>\n",
       "      <th>simulation</th>\n",
       "      <th>strategy</th>\n",
       "    </tr>\n",
       "  </thead>\n",
       "  <tbody>\n",
       "    <tr>\n",
       "      <th>0</th>\n",
       "      <td>226372</td>\n",
       "      <td>0</td>\n",
       "      <td>0</td>\n",
       "      <td>0</td>\n",
       "      <td>0</td>\n",
       "      <td>1</td>\n",
       "      <td>0</td>\n",
       "      <td>0</td>\n",
       "      <td>1</td>\n",
       "      <td>0</td>\n",
       "      <td>1</td>\n",
       "    </tr>\n",
       "    <tr>\n",
       "      <th>1</th>\n",
       "      <td>26491</td>\n",
       "      <td>0</td>\n",
       "      <td>1</td>\n",
       "      <td>0</td>\n",
       "      <td>0</td>\n",
       "      <td>1</td>\n",
       "      <td>0</td>\n",
       "      <td>0</td>\n",
       "      <td>0</td>\n",
       "      <td>0</td>\n",
       "      <td>0</td>\n",
       "    </tr>\n",
       "    <tr>\n",
       "      <th>2</th>\n",
       "      <td>176024</td>\n",
       "      <td>0</td>\n",
       "      <td>0</td>\n",
       "      <td>0</td>\n",
       "      <td>1</td>\n",
       "      <td>0</td>\n",
       "      <td>0</td>\n",
       "      <td>0</td>\n",
       "      <td>0</td>\n",
       "      <td>0</td>\n",
       "      <td>0</td>\n",
       "    </tr>\n",
       "    <tr>\n",
       "      <th>3</th>\n",
       "      <td>186954</td>\n",
       "      <td>1</td>\n",
       "      <td>0</td>\n",
       "      <td>1</td>\n",
       "      <td>0</td>\n",
       "      <td>0</td>\n",
       "      <td>1</td>\n",
       "      <td>0</td>\n",
       "      <td>0</td>\n",
       "      <td>0</td>\n",
       "      <td>0</td>\n",
       "    </tr>\n",
       "    <tr>\n",
       "      <th>4</th>\n",
       "      <td>12910</td>\n",
       "      <td>1</td>\n",
       "      <td>0</td>\n",
       "      <td>0</td>\n",
       "      <td>0</td>\n",
       "      <td>0</td>\n",
       "      <td>0</td>\n",
       "      <td>0</td>\n",
       "      <td>0</td>\n",
       "      <td>0</td>\n",
       "      <td>0</td>\n",
       "    </tr>\n",
       "  </tbody>\n",
       "</table>\n",
       "</div>"
      ],
      "text/plain": [
       "       id  action  adventure  arcade  cardboard  indie  puzzle  quiz  rpg  \\\n",
       "0  226372       0          0       0          0      1       0     0    1   \n",
       "1   26491       0          1       0          0      1       0     0    0   \n",
       "2  176024       0          0       0          1      0       0     0    0   \n",
       "3  186954       1          0       1          0      0       1     0    0   \n",
       "4   12910       1          0       0          0      0       0     0    0   \n",
       "\n",
       "   simulation  strategy  \n",
       "0           0         1  \n",
       "1           0         0  \n",
       "2           0         0  \n",
       "3           0         0  \n",
       "4           0         0  "
      ]
     },
     "execution_count": 49,
     "metadata": {},
     "output_type": "execute_result"
    }
   ],
   "source": [
    "actual_df.head()"
   ]
  },
  {
   "cell_type": "code",
   "execution_count": 50,
   "metadata": {},
   "outputs": [
    {
     "data": {
      "text/html": [
       "<div>\n",
       "<style scoped>\n",
       "    .dataframe tbody tr th:only-of-type {\n",
       "        vertical-align: middle;\n",
       "    }\n",
       "\n",
       "    .dataframe tbody tr th {\n",
       "        vertical-align: top;\n",
       "    }\n",
       "\n",
       "    .dataframe thead th {\n",
       "        text-align: right;\n",
       "    }\n",
       "</style>\n",
       "<table border=\"1\" class=\"dataframe\">\n",
       "  <thead>\n",
       "    <tr style=\"text-align: right;\">\n",
       "      <th></th>\n",
       "      <th>id</th>\n",
       "      <th>action</th>\n",
       "      <th>adventure</th>\n",
       "      <th>arcade</th>\n",
       "      <th>cardboard</th>\n",
       "      <th>indie</th>\n",
       "      <th>puzzle</th>\n",
       "      <th>quiz</th>\n",
       "      <th>rpg</th>\n",
       "      <th>simulation</th>\n",
       "      <th>strategy</th>\n",
       "    </tr>\n",
       "  </thead>\n",
       "  <tbody>\n",
       "    <tr>\n",
       "      <th>0</th>\n",
       "      <td>226372</td>\n",
       "      <td>0.023506</td>\n",
       "      <td>0.182517</td>\n",
       "      <td>0.011573</td>\n",
       "      <td>0.024602</td>\n",
       "      <td>0.627480</td>\n",
       "      <td>0.012709</td>\n",
       "      <td>0.003397</td>\n",
       "      <td>0.232784</td>\n",
       "      <td>0.157846</td>\n",
       "      <td>0.970524</td>\n",
       "    </tr>\n",
       "    <tr>\n",
       "      <th>1</th>\n",
       "      <td>26491</td>\n",
       "      <td>0.049560</td>\n",
       "      <td>0.803143</td>\n",
       "      <td>0.012203</td>\n",
       "      <td>0.006722</td>\n",
       "      <td>0.707965</td>\n",
       "      <td>0.253399</td>\n",
       "      <td>0.003549</td>\n",
       "      <td>0.062434</td>\n",
       "      <td>0.052682</td>\n",
       "      <td>0.063925</td>\n",
       "    </tr>\n",
       "    <tr>\n",
       "      <th>2</th>\n",
       "      <td>176024</td>\n",
       "      <td>0.021852</td>\n",
       "      <td>0.042697</td>\n",
       "      <td>0.055567</td>\n",
       "      <td>0.588657</td>\n",
       "      <td>0.066987</td>\n",
       "      <td>0.178423</td>\n",
       "      <td>0.329249</td>\n",
       "      <td>0.019667</td>\n",
       "      <td>0.217484</td>\n",
       "      <td>0.441967</td>\n",
       "    </tr>\n",
       "    <tr>\n",
       "      <th>3</th>\n",
       "      <td>186954</td>\n",
       "      <td>0.309030</td>\n",
       "      <td>0.197611</td>\n",
       "      <td>0.303371</td>\n",
       "      <td>0.006463</td>\n",
       "      <td>0.314224</td>\n",
       "      <td>0.454977</td>\n",
       "      <td>0.004140</td>\n",
       "      <td>0.013682</td>\n",
       "      <td>0.095701</td>\n",
       "      <td>0.101600</td>\n",
       "    </tr>\n",
       "    <tr>\n",
       "      <th>4</th>\n",
       "      <td>12910</td>\n",
       "      <td>0.712473</td>\n",
       "      <td>0.491250</td>\n",
       "      <td>0.136675</td>\n",
       "      <td>0.002553</td>\n",
       "      <td>0.050433</td>\n",
       "      <td>0.104715</td>\n",
       "      <td>0.003223</td>\n",
       "      <td>0.014220</td>\n",
       "      <td>0.040703</td>\n",
       "      <td>0.034337</td>\n",
       "    </tr>\n",
       "  </tbody>\n",
       "</table>\n",
       "</div>"
      ],
      "text/plain": [
       "       id    action  adventure    arcade  cardboard     indie    puzzle  \\\n",
       "0  226372  0.023506   0.182517  0.011573   0.024602  0.627480  0.012709   \n",
       "1   26491  0.049560   0.803143  0.012203   0.006722  0.707965  0.253399   \n",
       "2  176024  0.021852   0.042697  0.055567   0.588657  0.066987  0.178423   \n",
       "3  186954  0.309030   0.197611  0.303371   0.006463  0.314224  0.454977   \n",
       "4   12910  0.712473   0.491250  0.136675   0.002553  0.050433  0.104715   \n",
       "\n",
       "       quiz       rpg  simulation  strategy  \n",
       "0  0.003397  0.232784    0.157846  0.970524  \n",
       "1  0.003549  0.062434    0.052682  0.063925  \n",
       "2  0.329249  0.019667    0.217484  0.441967  \n",
       "3  0.004140  0.013682    0.095701  0.101600  \n",
       "4  0.003223  0.014220    0.040703  0.034337  "
      ]
     },
     "execution_count": 50,
     "metadata": {},
     "output_type": "execute_result"
    }
   ],
   "source": [
    "predictions_df.head()"
   ]
  },
  {
   "cell_type": "code",
   "execution_count": 51,
   "metadata": {},
   "outputs": [],
   "source": [
    "import numpy as np\n",
    "import pandas as pd\n",
    "from tqdm import tqdm\n",
    "from sklearn import metrics\n",
    "import transformers\n",
    "import torch\n",
    "import string\n",
    "import torchmetrics\n",
    "\n",
    "from transformers import pipeline\n",
    "from tqdm.notebook import tqdm\n",
    "tqdm.pandas()"
   ]
  },
  {
   "cell_type": "code",
   "execution_count": 52,
   "metadata": {},
   "outputs": [
    {
     "name": "stdout",
     "output_type": "stream",
     "text": [
      "Note: you may need to restart the kernel to use updated packages.\n"
     ]
    },
    {
     "name": "stderr",
     "output_type": "stream",
     "text": [
      "\n",
      "[notice] A new release of pip is available: 23.0.1 -> 23.1.2\n",
      "[notice] To update, run: python.exe -m pip install --upgrade pip\n"
     ]
    }
   ],
   "source": [
    "%pip install -q torchmetrics watermark"
   ]
  },
  {
   "cell_type": "code",
   "execution_count": 53,
   "metadata": {},
   "outputs": [
    {
     "name": "stdout",
     "output_type": "stream",
     "text": [
      "The watermark extension is already loaded. To reload it, use:\n",
      "  %reload_ext watermark\n"
     ]
    }
   ],
   "source": [
    "%load_ext watermark"
   ]
  },
  {
   "cell_type": "code",
   "execution_count": 54,
   "metadata": {},
   "outputs": [
    {
     "name": "stdout",
     "output_type": "stream",
     "text": [
      "transformers: 4.25.1\n",
      "sklearn     : 1.1.2\n",
      "torch       : 2.0.0\n",
      "numpy       : 1.23.5\n",
      "torchmetrics: 0.11.4\n",
      "pandas      : 1.4.3\n",
      "\n"
     ]
    }
   ],
   "source": [
    "%watermark --iversions"
   ]
  },
  {
   "cell_type": "code",
   "execution_count": 55,
   "metadata": {},
   "outputs": [],
   "source": [
    "label_columns = [\"action\",\"adventure\",\"arcade\",\"cardboard\",\"indie\",\"puzzle\",\"quiz\",\"rpg\",\"simulation\",\"strategy\"]"
   ]
  },
  {
   "attachments": {},
   "cell_type": "markdown",
   "metadata": {},
   "source": [
    "# 📊 AUC ROC Score\n",
    "---"
   ]
  },
  {
   "cell_type": "code",
   "execution_count": 56,
   "metadata": {},
   "outputs": [
    {
     "name": "stdout",
     "output_type": "stream",
     "text": [
      "Category: action\n",
      "Sklearn score: 0.9004976577030974\n",
      "torchmetrics score: 0.9004976749420166\n",
      "##############################\n",
      "\n",
      "Category: adventure\n",
      "Sklearn score: 0.8612046025758335\n",
      "torchmetrics score: 0.8612046241760254\n",
      "##############################\n",
      "\n",
      "Category: arcade\n",
      "Sklearn score: 0.8465519469806682\n",
      "torchmetrics score: 0.8465518951416016\n",
      "##############################\n",
      "\n",
      "Category: cardboard\n",
      "Sklearn score: 0.9243014791380201\n",
      "torchmetrics score: 0.9243015050888062\n",
      "##############################\n",
      "\n",
      "Category: indie\n",
      "Sklearn score: 0.863254008668307\n",
      "torchmetrics score: 0.8632540106773376\n",
      "##############################\n",
      "\n",
      "Category: puzzle\n",
      "Sklearn score: 0.8932235815222572\n",
      "torchmetrics score: 0.8932235836982727\n",
      "##############################\n",
      "\n",
      "Category: quiz\n",
      "Sklearn score: 0.93603836551689\n",
      "torchmetrics score: 0.9360383749008179\n",
      "##############################\n",
      "\n",
      "Category: rpg\n",
      "Sklearn score: 0.9064256318904669\n",
      "torchmetrics score: 0.9064255952835083\n",
      "##############################\n",
      "\n",
      "Category: simulation\n",
      "Sklearn score: 0.9025552172520963\n",
      "torchmetrics score: 0.9025552272796631\n",
      "##############################\n",
      "\n",
      "Category: strategy\n",
      "Sklearn score: 0.8660554570432004\n",
      "torchmetrics score: 0.866055428981781\n",
      "##############################\n",
      "\n"
     ]
    }
   ],
   "source": [
    "# score for each genre categories\n",
    "\n",
    "for cat in label_columns:\n",
    "    \n",
    "    print(f\"Category: {cat}\")\n",
    "    print(f\"Sklearn score: {metrics.roc_auc_score(actual_df[cat], predictions_df[cat])}\")\n",
    "    print(f\"torchmetrics score: {torchmetrics.functional.classification.binary_auroc(torch.tensor(predictions_df[cat].values),torch.tensor(actual_df[cat].values), thresholds=None)}\")\n",
    "    print(\"#\" * 30)\n",
    "    print()"
   ]
  },
  {
   "cell_type": "code",
   "execution_count": 57,
   "metadata": {},
   "outputs": [
    {
     "name": "stdout",
     "output_type": "stream",
     "text": [
      "Sklearn score: 0.8900107948290839\n",
      "torchmetrics score: 0.8900108337402344\n",
      "\n",
      "Sklearn score (weighted): 0.8784076724450895\n",
      "torchmetrics score (weighted): 0.8784076571464539\n"
     ]
    }
   ],
   "source": [
    "# mean column-wise score on all categories\n",
    "\n",
    "print(f\"Sklearn score: {metrics.roc_auc_score(actual_df[label_columns].values, predictions_df[label_columns].values)}\")\n",
    "print(F\"torchmetrics score: {torchmetrics.functional.classification.multilabel_auroc(torch.tensor(predictions_df[label_columns].values),torch.tensor(actual_df[label_columns].values),num_labels=10,thresholds=None)}\")\n",
    "\n",
    "print()\n",
    "print(f\"Sklearn score (weighted): {metrics.roc_auc_score(actual_df[label_columns].values, predictions_df[label_columns].values, average='weighted')}\")\n",
    "print(F\"torchmetrics score (weighted): {torchmetrics.functional.classification.multilabel_auroc(torch.tensor(predictions_df[label_columns].values),torch.tensor(actual_df[label_columns].values),num_labels=10,thresholds=None,average='weighted' )}\")"
   ]
  },
  {
   "attachments": {},
   "cell_type": "markdown",
   "metadata": {},
   "source": [
    "# 📊 Average Precision Score\n",
    "---"
   ]
  },
  {
   "cell_type": "code",
   "execution_count": 58,
   "metadata": {},
   "outputs": [
    {
     "name": "stdout",
     "output_type": "stream",
     "text": [
      "Category: action\n",
      "Sklearn score: 0.7468041427721409\n",
      "torchmetrics score: 0.7468041181564331\n",
      "##############################\n",
      "\n",
      "Category: adventure\n",
      "Sklearn score: 0.7809904490468703\n",
      "torchmetrics score: 0.780990481376648\n",
      "##############################\n",
      "\n",
      "Category: arcade\n",
      "Sklearn score: 0.38792434839043693\n",
      "torchmetrics score: 0.38792434334754944\n",
      "##############################\n",
      "\n",
      "Category: cardboard\n",
      "Sklearn score: 0.3882258990258047\n",
      "torchmetrics score: 0.38822588324546814\n",
      "##############################\n",
      "\n",
      "Category: indie\n",
      "Sklearn score: 0.7994510771728299\n",
      "torchmetrics score: 0.7994510531425476\n",
      "##############################\n",
      "\n",
      "Category: puzzle\n",
      "Sklearn score: 0.642369144184361\n",
      "torchmetrics score: 0.6423691511154175\n",
      "##############################\n",
      "\n",
      "Category: quiz\n",
      "Sklearn score: 0.45899745560444866\n",
      "torchmetrics score: 0.4589974880218506\n",
      "##############################\n",
      "\n",
      "Category: rpg\n",
      "Sklearn score: 0.7061284712695264\n",
      "torchmetrics score: 0.7061284780502319\n",
      "##############################\n",
      "\n",
      "Category: simulation\n",
      "Sklearn score: 0.8352959946507251\n",
      "torchmetrics score: 0.8352959752082825\n",
      "##############################\n",
      "\n",
      "Category: strategy\n",
      "Sklearn score: 0.7113289606337703\n",
      "torchmetrics score: 0.71132892370224\n",
      "##############################\n",
      "\n"
     ]
    }
   ],
   "source": [
    "# score for each genre categories\n",
    "\n",
    "for cat in label_columns:\n",
    "    \n",
    "    print(f\"Category: {cat}\")\n",
    "    print(f\"Sklearn score: {metrics.average_precision_score(actual_df[cat], predictions_df[cat])}\")\n",
    "    print(f\"torchmetrics score: {torchmetrics.functional.classification.binary_average_precision(torch.tensor(predictions_df[cat].values),torch.tensor(actual_df[cat].values), thresholds=None)}\")\n",
    "    print(\"#\" * 30)\n",
    "    print()"
   ]
  },
  {
   "cell_type": "code",
   "execution_count": 59,
   "metadata": {},
   "outputs": [
    {
     "name": "stdout",
     "output_type": "stream",
     "text": [
      "Sklearn score: 0.6457515942750913\n",
      "torchmetrics score: 0.6457515954971313\n",
      "\n",
      "Sklearn score (weighted): 0.7454756354232442\n",
      "torchmetrics score (weighted): 0.7454755902290344\n"
     ]
    }
   ],
   "source": [
    "# mean column-wise score on all categories\n",
    "\n",
    "print(f\"Sklearn score: {metrics.average_precision_score(actual_df[label_columns].values, predictions_df[label_columns].values)}\")\n",
    "print(F\"torchmetrics score: {torchmetrics.functional.classification.multilabel_average_precision(torch.tensor(predictions_df[label_columns].values),torch.tensor(actual_df[label_columns].values),num_labels=10,thresholds=None)}\")\n",
    "\n",
    "print()\n",
    "print(f\"Sklearn score (weighted): {metrics.average_precision_score(actual_df[label_columns].values, predictions_df[label_columns].values, average='weighted')}\")\n",
    "print(F\"torchmetrics score (weighted): {torchmetrics.functional.classification.multilabel_average_precision(torch.tensor(predictions_df[label_columns].values),torch.tensor(actual_df[label_columns].values),num_labels=10,thresholds=None,average='weighted' )}\")"
   ]
  },
  {
   "cell_type": "code",
   "execution_count": null,
   "metadata": {},
   "outputs": [],
   "source": []
  }
 ],
 "metadata": {
  "kernelspec": {
   "display_name": "Python 3",
   "language": "python",
   "name": "python3"
  },
  "language_info": {
   "codemirror_mode": {
    "name": "ipython",
    "version": 3
   },
   "file_extension": ".py",
   "mimetype": "text/x-python",
   "name": "python",
   "nbconvert_exporter": "python",
   "pygments_lexer": "ipython3",
   "version": "3.10.5"
  },
  "orig_nbformat": 4
 },
 "nbformat": 4,
 "nbformat_minor": 2
}
