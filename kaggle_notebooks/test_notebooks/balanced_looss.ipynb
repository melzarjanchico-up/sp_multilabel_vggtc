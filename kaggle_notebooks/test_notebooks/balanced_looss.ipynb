{
 "cells": [
  {
   "cell_type": "code",
   "execution_count": 1,
   "metadata": {},
   "outputs": [
    {
     "name": "stdout",
     "output_type": "stream",
     "text": [
      "Collecting balanced-loss\n",
      "  Downloading balanced_loss-0.1.0-py3-none-any.whl (5.2 kB)\n",
      "Requirement already satisfied: torch in c:\\users\\melzarr\\appdata\\local\\programs\\python\\python310\\lib\\site-packages (from balanced-loss) (2.0.0)\n",
      "Collecting click==8.0.4\n",
      "  Downloading click-8.0.4-py3-none-any.whl (97 kB)\n",
      "     ---------------------------------------- 97.5/97.5 kB 2.8 MB/s eta 0:00:00\n",
      "Requirement already satisfied: numpy in c:\\users\\melzarr\\appdata\\local\\programs\\python\\python310\\lib\\site-packages (from balanced-loss) (1.23.5)\n",
      "Requirement already satisfied: colorama in c:\\users\\melzarr\\appdata\\local\\programs\\python\\python310\\lib\\site-packages (from click==8.0.4->balanced-loss) (0.4.6)\n",
      "Requirement already satisfied: sympy in c:\\users\\melzarr\\appdata\\local\\programs\\python\\python310\\lib\\site-packages (from torch->balanced-loss) (1.11.1)\n",
      "Requirement already satisfied: networkx in c:\\users\\melzarr\\appdata\\local\\programs\\python\\python310\\lib\\site-packages (from torch->balanced-loss) (3.0)\n",
      "Requirement already satisfied: typing-extensions in c:\\users\\melzarr\\appdata\\local\\programs\\python\\python310\\lib\\site-packages (from torch->balanced-loss) (4.5.0)\n",
      "Requirement already satisfied: jinja2 in c:\\users\\melzarr\\appdata\\local\\programs\\python\\python310\\lib\\site-packages (from torch->balanced-loss) (3.1.2)\n",
      "Requirement already satisfied: filelock in c:\\users\\melzarr\\appdata\\local\\programs\\python\\python310\\lib\\site-packages (from torch->balanced-loss) (3.10.0)\n",
      "Requirement already satisfied: MarkupSafe>=2.0 in c:\\users\\melzarr\\appdata\\local\\programs\\python\\python310\\lib\\site-packages (from jinja2->torch->balanced-loss) (2.1.2)\n",
      "Requirement already satisfied: mpmath>=0.19 in c:\\users\\melzarr\\appdata\\local\\programs\\python\\python310\\lib\\site-packages (from sympy->torch->balanced-loss) (1.3.0)\n",
      "Installing collected packages: click, balanced-loss\n",
      "  Attempting uninstall: click\n",
      "    Found existing installation: click 8.1.3\n",
      "    Uninstalling click-8.1.3:\n",
      "      Successfully uninstalled click-8.1.3\n",
      "Successfully installed balanced-loss-0.1.0 click-8.0.4\n",
      "Note: you may need to restart the kernel to use updated packages.\n"
     ]
    },
    {
     "name": "stderr",
     "output_type": "stream",
     "text": [
      "\n",
      "[notice] A new release of pip is available: 23.0.1 -> 23.1.2\n",
      "[notice] To update, run: python.exe -m pip install --upgrade pip\n"
     ]
    }
   ],
   "source": [
    "%pip install balanced-loss"
   ]
  },
  {
   "cell_type": "code",
   "execution_count": 5,
   "metadata": {},
   "outputs": [],
   "source": [
    "import torch\n",
    "from balanced_loss import Loss\n",
    "\n",
    "# outputs and labels\n",
    "logits = torch.tensor([[0.78, 0.1, 0.05]]) # 1 batch, 3 class\n",
    "labels = torch.tensor([0])\n",
    "\n",
    "# number of samples per class in the training dataset\n",
    "samples_per_class = [30, 100, 25] # 30, 100, 25 samples for labels 0, 1 and 2, respectively\n",
    "\n",
    "# class-balanced focal loss\n",
    "focal_loss = Loss(\n",
    "    loss_type=\"focal_loss\",\n",
    "    beta=0.999, # class-balanced loss beta\n",
    "    fl_gamma=2, # focal loss gamma\n",
    "    # samples_per_class=samples_per_class,\n",
    "    # class_balanced=True\n",
    ")\n",
    "loss = focal_loss(logits, labels)"
   ]
  },
  {
   "cell_type": "code",
   "execution_count": 3,
   "metadata": {},
   "outputs": [
    {
     "data": {
      "text/plain": [
       "tensor(0.5158)"
      ]
     },
     "execution_count": 3,
     "metadata": {},
     "output_type": "execute_result"
    }
   ],
   "source": [
    "loss"
   ]
  },
  {
   "cell_type": "code",
   "execution_count": 6,
   "metadata": {},
   "outputs": [
    {
     "data": {
      "text/plain": [
       "tensor(0.4311)"
      ]
     },
     "execution_count": 6,
     "metadata": {},
     "output_type": "execute_result"
    }
   ],
   "source": [
    "loss"
   ]
  },
  {
   "cell_type": "code",
   "execution_count": null,
   "metadata": {},
   "outputs": [],
   "source": []
  }
 ],
 "metadata": {
  "kernelspec": {
   "display_name": "Python 3",
   "language": "python",
   "name": "python3"
  },
  "language_info": {
   "codemirror_mode": {
    "name": "ipython",
    "version": 3
   },
   "file_extension": ".py",
   "mimetype": "text/x-python",
   "name": "python",
   "nbconvert_exporter": "python",
   "pygments_lexer": "ipython3",
   "version": "3.10.5"
  },
  "orig_nbformat": 4
 },
 "nbformat": 4,
 "nbformat_minor": 2
}
