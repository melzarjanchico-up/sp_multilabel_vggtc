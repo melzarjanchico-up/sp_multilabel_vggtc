{
 "cells": [
  {
   "cell_type": "code",
   "execution_count": 1,
   "metadata": {},
   "outputs": [
    {
     "name": "stdout",
     "output_type": "stream",
     "text": [
      "0.9795047856845609\n"
     ]
    },
    {
     "name": "stderr",
     "output_type": "stream",
     "text": [
      "c:\\Users\\Melzarr\\AppData\\Local\\Programs\\Python\\Python310\\lib\\site-packages\\sklearn\\neural_network\\_multilayer_perceptron.py:702: ConvergenceWarning: Stochastic Optimizer: Maximum iterations (200) reached and the optimization hasn't converged yet.\n",
      "  warnings.warn(\n",
      "c:\\Users\\Melzarr\\AppData\\Local\\Programs\\Python\\Python310\\lib\\site-packages\\sklearn\\utils\\deprecation.py:87: FutureWarning: Function plot_roc_curve is deprecated; Function :func:`plot_roc_curve` is deprecated in 1.0 and will be removed in 1.2. Use one of the class methods: :meth:`sklearn.metrics.RocCurveDisplay.from_predictions` or :meth:`sklearn.metrics.RocCurveDisplay.from_estimator`.\n",
      "  warnings.warn(msg, category=FutureWarning)\n"
     ]
    },
    {
     "data": {
      "image/png": "[encoded data removed]",
      "text/plain": [
       "<Figure size 432x288 with 1 Axes>"
      ]
     },
     "metadata": {
      "needs_background": "light"
     },
     "output_type": "display_data"
    }
   ],
   "source": [
    "import matplotlib.pyplot as plt\n",
    "from sklearn.datasets import load_breast_cancer\n",
    "from sklearn.metrics import plot_roc_curve\n",
    "from sklearn.metrics import roc_auc_score\n",
    "from sklearn.model_selection import train_test_split\n",
    "from sklearn.neural_network import MLPClassifier\n",
    "from sklearn.preprocessing import MinMaxScaler\n",
    "\n",
    "X, y = load_breast_cancer(return_X_y=True)\n",
    "X_train, X_test, y_train, y_test = train_test_split(X, y, random_state=42)\n",
    "\n",
    "scaler = MinMaxScaler()\n",
    "scaler.fit(X_train)\n",
    "X_train = scaler.transform(X_train)\n",
    "X_test = scaler.transform(X_test)\n",
    "\n",
    "model = MLPClassifier(random_state=42)\n",
    "model.fit(X_train, y_train)\n",
    "yPred = model.predict(X_test)\n",
    "\n",
    "print(roc_auc_score(y_test, yPred))\n",
    "plot_roc_curve(model, X_test, y_test)\n",
    "plt.show()"
   ]
  },
  {
   "cell_type": "code",
   "execution_count": 6,
   "metadata": {},
   "outputs": [
    {
     "name": "stdout",
     "output_type": "stream",
     "text": [
      "[1 0 0 1 1 0 0 0 0 1 1 0 1 0 1 0 1 1 1 0 1 1 0 1 1 1 1 1 1 0 1 1 1 1 1 1 0\n",
      " 1 0 1 1 0 1 1 1 1 1 1 1 1 0 0 1 1 1 1 1 0 0 1 1 0 0 1 1 1 0 0 1 1 0 0 1 0\n",
      " 1 1 1 0 1 1 0 1 0 0 0 0 0 0 1 1 1 1 1 1 1 1 0 0 1 0 0 1 0 0 1 1 1 0 1 1 0\n",
      " 1 0 0 1 0 1 1 1 0 1 1 1 0 1 0 0 1 1 0 0 0 1 1 1 0 1 1 1 0 1 0 1]\n",
      "(143,)\n"
     ]
    }
   ],
   "source": [
    "print(yPred)\n",
    "print(yPred.shape)"
   ]
  },
  {
   "cell_type": "code",
   "execution_count": 2,
   "metadata": {},
   "outputs": [
    {
     "name": "stdout",
     "output_type": "stream",
     "text": [
      "0.9983354140657512\n"
     ]
    }
   ],
   "source": [
    "yPred_p = model.predict_proba(X_test)[:,1]\n",
    "print(roc_auc_score(y_test, yPred_p))"
   ]
  },
  {
   "cell_type": "code",
   "execution_count": 7,
   "metadata": {},
   "outputs": [
    {
     "name": "stdout",
     "output_type": "stream",
     "text": [
      "[7.73328616e-01 4.45046744e-04 9.99174559e-03 9.95018977e-01\n",
      " 9.98291085e-01 4.38395596e-07 4.31248317e-06 8.83065152e-02\n",
      " 4.83436184e-01 9.80360802e-01 8.96512006e-01 4.24827893e-02\n",
      " 9.62073369e-01 2.54635979e-01 9.75899433e-01 6.78942555e-03\n",
      " 9.79499813e-01 9.99099400e-01 9.99782981e-01 8.72983261e-05\n",
      " 7.09512969e-01 9.61070600e-01 6.38026213e-06 9.97146260e-01\n",
      " 9.86010537e-01 9.94515664e-01 9.62995670e-01 9.70123334e-01\n",
      " 9.84397078e-01 3.12583349e-04 9.92043429e-01 9.95162499e-01\n",
      " 9.94411002e-01 9.73158668e-01 9.98270965e-01 9.85250708e-01\n",
      " 2.35578172e-01 9.84381532e-01 1.84720561e-03 8.71960473e-01\n",
      " 9.98034370e-01 1.42581283e-02 9.62165444e-01 9.85962638e-01\n",
      " 9.22077600e-01 9.05166809e-01 9.99250469e-01 9.90138198e-01\n",
      " 9.24589221e-01 9.61510525e-01 2.54212407e-03 1.60176809e-05\n",
      " 7.29568090e-01 9.73447393e-01 9.99514945e-01 8.84268782e-01\n",
      " 9.97492183e-01 3.04598821e-07 1.07854532e-01 9.95295956e-01\n",
      " 9.64536801e-01 7.34779164e-05 1.38178444e-05 8.68719701e-01\n",
      " 9.94736103e-01 6.73653224e-01 9.04139317e-04 2.88506827e-06\n",
      " 9.94561643e-01 9.26475122e-01 4.58273908e-02 1.20209411e-02\n",
      " 9.78404671e-01 1.31538529e-02 9.98715469e-01 9.50137982e-01\n",
      " 9.59038275e-01 4.14833695e-01 9.94978561e-01 9.55577331e-01\n",
      " 2.68640156e-02 9.97454929e-01 2.78441193e-01 1.15604788e-05\n",
      " 5.08023379e-02 9.26056966e-03 3.24418426e-03 1.87882594e-03\n",
      " 9.83801704e-01 9.82878483e-01 9.74764950e-01 6.93946388e-01\n",
      " 8.44729364e-01 9.85086550e-01 9.97761718e-01 9.97954050e-01\n",
      " 1.71161665e-04 4.83146396e-04 9.97394751e-01 3.64847372e-03\n",
      " 2.64969192e-02 9.99075330e-01 5.88358057e-04 7.88186391e-03\n",
      " 9.66271415e-01 9.02438386e-01 9.81919564e-01 5.28657859e-06\n",
      " 6.88389396e-01 8.18829979e-01 8.93474108e-03 9.83844611e-01\n",
      " 2.98563590e-01 6.83780254e-07 8.52650400e-01 2.66351563e-06\n",
      " 9.99241881e-01 9.51820137e-01 9.99394217e-01 3.48626452e-03\n",
      " 9.89115672e-01 9.87948327e-01 9.73737437e-01 2.50582580e-03\n",
      " 8.42847372e-01 7.33485429e-05 5.65433808e-03 9.92099494e-01\n",
      " 9.83514700e-01 1.32744686e-04 5.16338802e-06 1.01358480e-04\n",
      " 9.21773254e-01 9.93634105e-01 8.63479024e-01 1.28929442e-02\n",
      " 5.80597011e-01 9.85844265e-01 6.65446087e-01 1.36797964e-02\n",
      " 9.87313272e-01 1.96905928e-05 9.97698204e-01]\n",
      "(143,)\n"
     ]
    }
   ],
   "source": [
    "print(yPred_p)\n",
    "print(yPred_p.shape)"
   ]
  },
  {
   "cell_type": "code",
   "execution_count": 3,
   "metadata": {},
   "outputs": [
    {
     "data": {
      "text/plain": [
       "Text(0.5, 0, 'False Positive Rate')"
      ]
     },
     "execution_count": 3,
     "metadata": {},
     "output_type": "execute_result"
    },
    {
     "data": {
      "image/png": "[encoded data removed]",
      "text/plain": [
       "<Figure size 432x288 with 1 Axes>"
      ]
     },
     "metadata": {
      "needs_background": "light"
     },
     "output_type": "display_data"
    }
   ],
   "source": [
    "from sklearn.metrics import roc_curve, auc\n",
    "fpr, tpr, _ = roc_curve(y_test, yPred)\n",
    "roc_auc = auc(fpr, tpr)\n",
    "plt.plot(fpr, tpr, label='AUC = ' + str(round(roc_auc, 2)))\n",
    "plt.legend(loc='lower right')\n",
    "plt.ylabel('True Positive Rate')\n",
    "plt.xlabel('False Positive Rate')"
   ]
  },
  {
   "cell_type": "code",
   "execution_count": null,
   "metadata": {},
   "outputs": [],
   "source": []
  }
 ],
 "metadata": {
  "kernelspec": {
   "display_name": "Python 3",
   "language": "python",
   "name": "python3"
  },
  "language_info": {
   "codemirror_mode": {
    "name": "ipython",
    "version": 3
   },
   "file_extension": ".py",
   "mimetype": "text/x-python",
   "name": "python",
   "nbconvert_exporter": "python",
   "pygments_lexer": "ipython3",
   "version": "3.10.5"
  },
  "orig_nbformat": 4
 },
 "nbformat": 4,
 "nbformat_minor": 2
}
